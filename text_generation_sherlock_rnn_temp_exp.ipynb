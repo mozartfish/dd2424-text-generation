{
  "cells": [
    {
      "cell_type": "markdown",
      "metadata": {
        "id": "IDJctDhhEDTD"
      },
      "source": [
        "## Import dependencies"
      ]
    },
    {
      "cell_type": "code",
      "execution_count": 2,
      "metadata": {
        "id": "Z2xZnxncD2Ep"
      },
      "outputs": [],
      "source": [
        "# Selecting Tensorflow version v2 (the command is relevant for Colab only).\n",
        "# %tensorflow_version 2.x"
      ]
    },
    {
      "cell_type": "code",
      "source": [
        "pip install pyspellchecker"
      ],
      "metadata": {
        "colab": {
          "base_uri": "https://localhost:8080/"
        },
        "id": "TWFaTgWM78Mh",
        "outputId": "cd507db2-8f2f-491e-d266-971097bf3e21"
      },
      "execution_count": 3,
      "outputs": [
        {
          "output_type": "stream",
          "name": "stdout",
          "text": [
            "Collecting pyspellchecker\n",
            "  Downloading pyspellchecker-0.8.2-py3-none-any.whl.metadata (9.4 kB)\n",
            "Downloading pyspellchecker-0.8.2-py3-none-any.whl (7.1 MB)\n",
            "\u001b[?25l   \u001b[90m━━━━━━━━━━━━━━━━━━━━━━━━━━━━━━━━━━━━━━━━\u001b[0m \u001b[32m0.0/7.1 MB\u001b[0m \u001b[31m?\u001b[0m eta \u001b[36m-:--:--\u001b[0m\r\u001b[2K   \u001b[91m━━━\u001b[0m\u001b[90m╺\u001b[0m\u001b[90m━━━━━━━━━━━━━━━━━━━━━━━━━━━━━━━━━━━━\u001b[0m \u001b[32m0.6/7.1 MB\u001b[0m \u001b[31m18.4 MB/s\u001b[0m eta \u001b[36m0:00:01\u001b[0m\r\u001b[2K   \u001b[91m━━━━━━━━━━━━━━━━━━━━━━━━━━━━\u001b[0m\u001b[91m╸\u001b[0m\u001b[90m━━━━━━━━━━━\u001b[0m \u001b[32m5.2/7.1 MB\u001b[0m \u001b[31m75.4 MB/s\u001b[0m eta \u001b[36m0:00:01\u001b[0m\r\u001b[2K   \u001b[90m━━━━━━━━━━━━━━━━━━━━━━━━━━━━━━━━━━━━━━━━\u001b[0m \u001b[32m7.1/7.1 MB\u001b[0m \u001b[31m72.4 MB/s\u001b[0m eta \u001b[36m0:00:00\u001b[0m\n",
            "\u001b[?25hInstalling collected packages: pyspellchecker\n",
            "Successfully installed pyspellchecker-0.8.2\n"
          ]
        }
      ]
    },
    {
      "cell_type": "code",
      "execution_count": 4,
      "metadata": {
        "colab": {
          "base_uri": "https://localhost:8080/"
        },
        "id": "SpueB6zADYgE",
        "outputId": "68c44872-3bff-471a-8a17-6ebc8cf08e48"
      },
      "outputs": [
        {
          "output_type": "stream",
          "name": "stdout",
          "text": [
            "Python version: 3.11.12\n",
            "Tensorflow version: 2.18.0\n",
            "Keras version: 3.8.0\n"
          ]
        }
      ],
      "source": [
        "import tensorflow as tf\n",
        "import matplotlib.pyplot as plt\n",
        "import numpy as np\n",
        "import platform\n",
        "import time\n",
        "import pathlib\n",
        "import os\n",
        "from spellchecker import SpellChecker\n",
        "\n",
        "print('Python version:', platform.python_version())\n",
        "print('Tensorflow version:', tf.__version__)\n",
        "print('Keras version:', tf.keras.__version__)"
      ]
    },
    {
      "cell_type": "markdown",
      "metadata": {
        "id": "ciI_JnnNEGCw"
      },
      "source": [
        "## Download the dataset"
      ]
    },
    {
      "cell_type": "code",
      "execution_count": 5,
      "metadata": {
        "colab": {
          "base_uri": "https://localhost:8080/"
        },
        "id": "Vk2HldshEOph",
        "outputId": "3c7ab165-cab0-40f5-80a5-87c31c81dd9c"
      },
      "outputs": [
        {
          "output_type": "stream",
          "name": "stdout",
          "text": [
            "shakespeare.txt\n"
          ]
        }
      ],
      "source": [
        "cache_dir = './tmp'\n",
        "dataset_file_name = 'sherlockholmes.txt'\n",
        "dataset_file_origin = 'https://storage.googleapis.com/download.tensorflow.org/data/shakespeare.txt'\n",
        "\n",
        "dataset_file_path = 'shakespeare.txt'\n",
        "\n",
        "print(dataset_file_path)"
      ]
    },
    {
      "cell_type": "code",
      "source": [
        "import urllib.request\n",
        "import os\n",
        "\n",
        "dataset_url = \"https://storage.googleapis.com/download.tensorflow.org/data/shakespeare.txt\"\n",
        "dataset_file_name = \"shakespeare.txt\"\n",
        "\n",
        "if not os.path.exists(dataset_file_name):\n",
        "    print(\"Downloading dataset...\")\n",
        "    urllib.request.urlretrieve(dataset_url, dataset_file_name)\n",
        "else:\n",
        "    print(\"Dataset already exists.\")\n",
        "\n",
        "# Load the text\n",
        "with open(dataset_file_name, 'r') as file:\n",
        "    text = file.read()\n",
        "\n",
        "print(f\"Loaded {len(text)} characters.\")"
      ],
      "metadata": {
        "id": "9_ruqRhlbz75",
        "colab": {
          "base_uri": "https://localhost:8080/"
        },
        "outputId": "5467fee0-701c-490b-837a-e9460aad7ab2"
      },
      "execution_count": 6,
      "outputs": [
        {
          "output_type": "stream",
          "name": "stdout",
          "text": [
            "Downloading dataset...\n",
            "Loaded 1115394 characters.\n"
          ]
        }
      ]
    },
    {
      "cell_type": "markdown",
      "metadata": {
        "id": "eKTy6YS5Gx-g"
      },
      "source": [
        "## Analyze the dataset"
      ]
    },
    {
      "cell_type": "code",
      "execution_count": 7,
      "metadata": {
        "colab": {
          "base_uri": "https://localhost:8080/"
        },
        "id": "nknOAOuoH-Av",
        "outputId": "7e94697b-230e-425e-f18e-ddded2980f0c"
      },
      "outputs": [
        {
          "output_type": "stream",
          "name": "stdout",
          "text": [
            "First Citizen:\n",
            "Before we proceed any further, hear me speak.\n",
            "\n",
            "All:\n",
            "Speak, speak.\n",
            "\n",
            "First Citizen:\n",
            "You are all resolved rather to die than to famish?\n",
            "\n",
            "All:\n",
            "Resolved. resolved.\n",
            "\n",
            "First Citizen:\n",
            "First, you know Caius Marcius is chief enemy to the people.\n",
            "\n"
          ]
        }
      ],
      "source": [
        "# Take a look at the first 250 characters in text.\n",
        "print(text[:250])"
      ]
    },
    {
      "cell_type": "code",
      "execution_count": 8,
      "metadata": {
        "colab": {
          "base_uri": "https://localhost:8080/"
        },
        "id": "VPXkB5bOITqi",
        "outputId": "d43cf58b-2314-494b-ac64-4620f9e4d823"
      },
      "outputs": [
        {
          "output_type": "stream",
          "name": "stdout",
          "text": [
            "65 unique characters\n",
            "vocab: ['\\n', ' ', '!', '$', '&', \"'\", ',', '-', '.', '3', ':', ';', '?', 'A', 'B', 'C', 'D', 'E', 'F', 'G', 'H', 'I', 'J', 'K', 'L', 'M', 'N', 'O', 'P', 'Q', 'R', 'S', 'T', 'U', 'V', 'W', 'X', 'Y', 'Z', 'a', 'b', 'c', 'd', 'e', 'f', 'g', 'h', 'i', 'j', 'k', 'l', 'm', 'n', 'o', 'p', 'q', 'r', 's', 't', 'u', 'v', 'w', 'x', 'y', 'z']\n"
          ]
        }
      ],
      "source": [
        "# The unique characters in the file\n",
        "vocab = sorted(set(text))\n",
        "\n",
        "print('{} unique characters'.format(len(vocab)))\n",
        "print('vocab:', vocab)"
      ]
    },
    {
      "cell_type": "markdown",
      "metadata": {
        "id": "GqpuKh9HMNnf"
      },
      "source": [
        "## Process the dataset"
      ]
    },
    {
      "cell_type": "markdown",
      "metadata": {
        "id": "6dj4e-AGMaV4"
      },
      "source": [
        "### Vectorize the text\n",
        "\n",
        "Before feeding the text to our RNN we need to convert the text from a sequence of characters to a sequence of numbers. To do so we will detect all unique characters in the text, form a vocabulary out of it and replace each character with its index in the vocabulary."
      ]
    },
    {
      "cell_type": "code",
      "execution_count": 9,
      "metadata": {
        "colab": {
          "base_uri": "https://localhost:8080/"
        },
        "id": "xFFpuXfGMPq2",
        "outputId": "b6e9f2e0-6d1c-4d8a-9944-460fce766de6"
      },
      "outputs": [
        {
          "output_type": "stream",
          "name": "stdout",
          "text": [
            "{\n",
            "  '\\n':   0,\n",
            "  ' ' :   1,\n",
            "  '!' :   2,\n",
            "  '$' :   3,\n",
            "  '&' :   4,\n",
            "  \"'\" :   5,\n",
            "  ',' :   6,\n",
            "  '-' :   7,\n",
            "  '.' :   8,\n",
            "  '3' :   9,\n",
            "  ':' :  10,\n",
            "  ';' :  11,\n",
            "  '?' :  12,\n",
            "  'A' :  13,\n",
            "  'B' :  14,\n",
            "  'C' :  15,\n",
            "  'D' :  16,\n",
            "  'E' :  17,\n",
            "  'F' :  18,\n",
            "  'G' :  19,\n",
            "  ...\n",
            "}\n"
          ]
        }
      ],
      "source": [
        "# Map characters to their indices in vocabulary.\n",
        "char2index = {char: index for index, char in enumerate(vocab)}\n",
        "\n",
        "print('{')\n",
        "for char, _ in zip(char2index, range(20)):\n",
        "    print('  {:4s}: {:3d},'.format(repr(char), char2index[char]))\n",
        "print('  ...\\n}')"
      ]
    },
    {
      "cell_type": "code",
      "execution_count": 14,
      "metadata": {
        "colab": {
          "base_uri": "https://localhost:8080/"
        },
        "id": "lQB33zI7NkRo",
        "outputId": "c897239d-f1f1-4fcb-d555-f4f2a6bf32ee"
      },
      "outputs": [
        {
          "output_type": "stream",
          "name": "stdout",
          "text": [
            "['\\n' ' ' '!' '$' '&' \"'\" ',' '-' '.' '3' ':' ';' '?' 'A' 'B' 'C' 'D' 'E'\n",
            " 'F' 'G' 'H' 'I' 'J' 'K' 'L' 'M' 'N' 'O' 'P' 'Q' 'R' 'S' 'T' 'U' 'V' 'W'\n",
            " 'X' 'Y' 'Z' 'a' 'b' 'c' 'd' 'e' 'f' 'g' 'h' 'i' 'j' 'k' 'l' 'm' 'n' 'o'\n",
            " 'p' 'q' 'r' 's' 't' 'u' 'v' 'w' 'x' 'y' 'z']\n"
          ]
        }
      ],
      "source": [
        "# Map character indices to characters from vacabulary.\n",
        "index2char = np.array(vocab)\n",
        "print(index2char)"
      ]
    },
    {
      "cell_type": "code",
      "execution_count": 15,
      "metadata": {
        "colab": {
          "base_uri": "https://localhost:8080/"
        },
        "id": "DXUAlYmvN_Rj",
        "outputId": "a93c1c24-e33a-4fcb-995e-b0b84ec894ff"
      },
      "outputs": [
        {
          "output_type": "stream",
          "name": "stdout",
          "text": [
            "text_as_int length: 1115394\n",
            "'First Citizen:\\n' --> array([18, 47, 56, 57, 58,  1, 15, 47, 58, 47, 64, 43, 52, 10,  0])\n"
          ]
        }
      ],
      "source": [
        "# Convert chars in text to indices.\n",
        "text_as_int = np.array([char2index[char] for char in text])\n",
        "\n",
        "print('text_as_int length: {}'.format(len(text_as_int)))\n",
        "print('{} --> {}'.format(repr(text[:15]), repr(text_as_int[:15])))"
      ]
    },
    {
      "cell_type": "markdown",
      "metadata": {
        "id": "CHv5HhUuTQYS"
      },
      "source": [
        "## Create training sequences"
      ]
    },
    {
      "cell_type": "code",
      "execution_count": 16,
      "metadata": {
        "colab": {
          "base_uri": "https://localhost:8080/"
        },
        "id": "9tHT8IXGTTtZ",
        "outputId": "df47a62f-c32f-457a-9bfc-a6fb4fe70c9c"
      },
      "outputs": [
        {
          "output_type": "stream",
          "name": "stdout",
          "text": [
            "examples_per_epoch: 11043\n"
          ]
        }
      ],
      "source": [
        "# The maximum length sentence we want for a single input in characters.\n",
        "sequence_length = 100\n",
        "examples_per_epoch = len(text) // (sequence_length + 1)\n",
        "\n",
        "print('examples_per_epoch:', examples_per_epoch)"
      ]
    },
    {
      "cell_type": "code",
      "execution_count": 17,
      "metadata": {
        "colab": {
          "base_uri": "https://localhost:8080/"
        },
        "id": "Pf5tMMDnUP3q",
        "outputId": "d27cad80-2ea9-42e0-a23c-1c0915663abd"
      },
      "outputs": [
        {
          "output_type": "stream",
          "name": "stdout",
          "text": [
            "F\n",
            "i\n",
            "r\n",
            "s\n",
            "t\n"
          ]
        }
      ],
      "source": [
        "# Create training dataset.\n",
        "char_dataset = tf.data.Dataset.from_tensor_slices(text_as_int)\n",
        "\n",
        "for char in char_dataset.take(5):\n",
        "    print(index2char[char.numpy()])"
      ]
    },
    {
      "cell_type": "code",
      "execution_count": 18,
      "metadata": {
        "colab": {
          "base_uri": "https://localhost:8080/"
        },
        "id": "Ap71VjB2Vuct",
        "outputId": "9899d9c5-a3d6-442a-c011-c55860f9e59e"
      },
      "outputs": [
        {
          "output_type": "stream",
          "name": "stdout",
          "text": [
            "Sequences count: 11043\n",
            "\n",
            "'First Citizen:\\nBefore we proceed any further, hear me speak.\\n\\nAll:\\nSpeak, speak.\\n\\nFirst Citizen:\\nYou '\n",
            "'are all resolved rather to die than to famish?\\n\\nAll:\\nResolved. resolved.\\n\\nFirst Citizen:\\nFirst, you k'\n",
            "\"now Caius Marcius is chief enemy to the people.\\n\\nAll:\\nWe know't, we know't.\\n\\nFirst Citizen:\\nLet us ki\"\n",
            "\"ll him, and we'll have corn at our own price.\\nIs't a verdict?\\n\\nAll:\\nNo more talking on't; let it be d\"\n",
            "'one: away, away!\\n\\nSecond Citizen:\\nOne word, good citizens.\\n\\nFirst Citizen:\\nWe are accounted poor citi'\n"
          ]
        }
      ],
      "source": [
        "# Generate batched sequences out of the char_dataset.\n",
        "sequences = char_dataset.batch(sequence_length + 1, drop_remainder=True)\n",
        "\n",
        "# Sequences size is the same as examples_per_epoch.\n",
        "print('Sequences count: {}'.format(len(list(sequences.as_numpy_iterator()))));\n",
        "print()\n",
        "\n",
        "# Sequences examples.\n",
        "for item in sequences.take(5):\n",
        "    print(repr(''.join(index2char[item.numpy()])))"
      ]
    },
    {
      "cell_type": "code",
      "execution_count": 16,
      "metadata": {
        "id": "Y8spPCfe-iTn"
      },
      "outputs": [],
      "source": [
        "# sequences shape:\n",
        "# - 11043 sequences\n",
        "# - Each sequence of length 101\n",
        "#\n",
        "#\n",
        "#    101     101          101\n",
        "# [(.....) (.....) ...  (.....)]\n",
        "#\n",
        "# <---------- 11043 ----------->"
      ]
    },
    {
      "cell_type": "markdown",
      "metadata": {
        "id": "HdcrcUs4Xxso"
      },
      "source": [
        "For each sequence, duplicate and shift it to form the input and target text. For example, say `sequence_length` is `4` and our text is `Hello`. The input sequence would be `Hell`, and the target sequence `ello`."
      ]
    },
    {
      "cell_type": "code",
      "execution_count": 19,
      "metadata": {
        "id": "9fxvXsP0XFDh"
      },
      "outputs": [],
      "source": [
        "def split_input_target(chunk):\n",
        "    input_text = chunk[:-1]\n",
        "    target_text = chunk[1:]\n",
        "    return input_text, target_text"
      ]
    },
    {
      "cell_type": "code",
      "execution_count": 20,
      "metadata": {
        "colab": {
          "base_uri": "https://localhost:8080/"
        },
        "id": "454rWIQYXXRY",
        "outputId": "523e123b-4828-403b-ef59-e06ebc4111a3"
      },
      "outputs": [
        {
          "output_type": "stream",
          "name": "stdout",
          "text": [
            "dataset size: 11043\n"
          ]
        }
      ],
      "source": [
        "dataset = sequences.map(split_input_target)\n",
        "\n",
        "# Dataset size is the same as examples_per_epoch.\n",
        "# But each element of a sequence is now has length of `sequence_length`\n",
        "# and not `sequence_length + 1`.\n",
        "print('dataset size: {}'.format(len(list(dataset.as_numpy_iterator()))))"
      ]
    },
    {
      "cell_type": "code",
      "execution_count": 21,
      "metadata": {
        "colab": {
          "base_uri": "https://localhost:8080/"
        },
        "id": "Kuoh4tCdYCck",
        "outputId": "323af552-ced1-4d8b-8fed-75ed1e235117"
      },
      "outputs": [
        {
          "output_type": "stream",
          "name": "stdout",
          "text": [
            "Input sequence size: 100\n",
            "Target sequence size: 100\n",
            "\n",
            "Input: 'First Citizen:\\nBefore we proceed any further, hear me speak.\\n\\nAll:\\nSpeak, speak.\\n\\nFirst Citizen:\\nYou'\n",
            "Target: 'irst Citizen:\\nBefore we proceed any further, hear me speak.\\n\\nAll:\\nSpeak, speak.\\n\\nFirst Citizen:\\nYou '\n"
          ]
        }
      ],
      "source": [
        "for input_example, target_example in dataset.take(1):\n",
        "    print('Input sequence size:', repr(len(input_example.numpy())))\n",
        "    print('Target sequence size:', repr(len(target_example.numpy())))\n",
        "    print()\n",
        "    print('Input:', repr(''.join(index2char[input_example.numpy()])))\n",
        "    print('Target:', repr(''.join(index2char[target_example.numpy()])))"
      ]
    },
    {
      "cell_type": "code",
      "execution_count": 20,
      "metadata": {
        "id": "cp0tl0sN807l"
      },
      "outputs": [],
      "source": [
        "# dataset shape:\n",
        "# - 11043 sequences\n",
        "# - Each sequence is a tuple of 2 sub-sequences of length 100 (input_text and target_text)\n",
        "#\n",
        "#\n",
        "#    100       100           100\n",
        "# /(.....)\\ /(.....)\\ ... /(.....)\\  <-- input_text\n",
        "# \\(.....)/ \\(.....)/     \\(.....)/  <-- target_text\n",
        "#\n",
        "# <----------- 11043 ------------->"
      ]
    },
    {
      "cell_type": "markdown",
      "metadata": {
        "id": "BDYHEJ0pY1ai"
      },
      "source": [
        "Each index of these vectors are processed as one time step. For the input at time step 0, the model receives the index for \"F\" and trys to predict the index for \"i\" as the next character. At the next timestep, it does the same thing but the RNN considers the previous step context in addition to the current input character."
      ]
    },
    {
      "cell_type": "code",
      "execution_count": 21,
      "metadata": {
        "colab": {
          "base_uri": "https://localhost:8080/"
        },
        "id": "C-0zpv53Y2o4",
        "outputId": "36d648d2-54c0-4a75-b093-141dba1c5a9e"
      },
      "outputs": [
        {
          "output_type": "stream",
          "name": "stdout",
          "text": [
            "Step  0\n",
            "  input: 18 (np.str_('F'))\n",
            "  expected output: 47 (np.str_('i'))\n",
            "Step  1\n",
            "  input: 47 (np.str_('i'))\n",
            "  expected output: 56 (np.str_('r'))\n",
            "Step  2\n",
            "  input: 56 (np.str_('r'))\n",
            "  expected output: 57 (np.str_('s'))\n",
            "Step  3\n",
            "  input: 57 (np.str_('s'))\n",
            "  expected output: 58 (np.str_('t'))\n",
            "Step  4\n",
            "  input: 58 (np.str_('t'))\n",
            "  expected output: 1 (np.str_(' '))\n"
          ]
        }
      ],
      "source": [
        "for i, (input_idx, target_idx) in enumerate(zip(input_example[:5], target_example[:5])):\n",
        "    print('Step {:2d}'.format(i))\n",
        "    print('  input: {} ({:s})'.format(input_idx, repr(index2char[input_idx])))\n",
        "    print('  expected output: {} ({:s})'.format(target_idx, repr(index2char[target_idx])))"
      ]
    },
    {
      "cell_type": "markdown",
      "metadata": {
        "id": "1iDlp40lC5YB"
      },
      "source": [
        "## Split training sequences into batches\n",
        "\n",
        "We used `tf.data` to split the text into manageable sequences. But before feeding this data into the model, we need to shuffle the data and pack it into batches."
      ]
    },
    {
      "cell_type": "code",
      "execution_count": 22,
      "metadata": {
        "colab": {
          "base_uri": "https://localhost:8080/"
        },
        "id": "eDq-wa5EC3wW",
        "outputId": "12b18475-3919-465f-f656-d2a9516ded47"
      },
      "outputs": [
        {
          "output_type": "execute_result",
          "data": {
            "text/plain": [
              "<_BatchDataset element_spec=(TensorSpec(shape=(64, 100), dtype=tf.int64, name=None), TensorSpec(shape=(64, 100), dtype=tf.int64, name=None))>"
            ]
          },
          "metadata": {},
          "execution_count": 22
        }
      ],
      "source": [
        "# Batch size.\n",
        "BATCH_SIZE = 64\n",
        "\n",
        "# Buffer size to shuffle the dataset (TF data is designed to work\n",
        "# with possibly infinite sequences, so it doesn't attempt to shuffle\n",
        "# the entire sequence in memory. Instead, it maintains a buffer in\n",
        "# which it shuffles elements).\n",
        "BUFFER_SIZE = 10000\n",
        "\n",
        "dataset = dataset.shuffle(BUFFER_SIZE).batch(BATCH_SIZE, drop_remainder=True)\n",
        "\n",
        "dataset"
      ]
    },
    {
      "cell_type": "code",
      "execution_count": 23,
      "metadata": {
        "colab": {
          "base_uri": "https://localhost:8080/"
        },
        "id": "1x4puZiiOlyl",
        "outputId": "312138c4-935d-47ee-e248-e8e99c857807"
      },
      "outputs": [
        {
          "output_type": "stream",
          "name": "stdout",
          "text": [
            "Batched dataset size: 172\n"
          ]
        }
      ],
      "source": [
        "print('Batched dataset size: {}'.format(len(list(dataset.as_numpy_iterator()))))"
      ]
    },
    {
      "cell_type": "code",
      "execution_count": 24,
      "metadata": {
        "colab": {
          "base_uri": "https://localhost:8080/"
        },
        "id": "b_kYgvQGBO0U",
        "outputId": "18178e0f-8e35-4fb6-cf1c-00dd2c6f347f"
      },
      "outputs": [
        {
          "output_type": "stream",
          "name": "stdout",
          "text": [
            "1st batch: input_text: tf.Tensor(\n",
            "[[ 5 57 58 ...  1 58 46]\n",
            " [43 52 43 ... 53 60 43]\n",
            " [46 47 57 ... 57 43 43]\n",
            " ...\n",
            " [44 56 53 ... 46 39 52]\n",
            " [43 42  1 ... 57  1 40]\n",
            " [47 41 43 ...  7 61 53]], shape=(64, 100), dtype=int64)\n",
            "\n",
            "1st batch: target_text: tf.Tensor(\n",
            "[[57 58  1 ... 58 46 43]\n",
            " [52 43 58 ... 60 43 56]\n",
            " [47 57  1 ... 43 43  1]\n",
            " ...\n",
            " [56 53 51 ... 39 52 42]\n",
            " [42  1 44 ...  1 40 43]\n",
            " [41 43  6 ... 61 53 50]], shape=(64, 100), dtype=int64)\n"
          ]
        }
      ],
      "source": [
        "for input_text, target_text in dataset.take(1):\n",
        "    print('1st batch: input_text:', input_text)\n",
        "    print()\n",
        "    print('1st batch: target_text:', target_text)"
      ]
    },
    {
      "cell_type": "code",
      "execution_count": 25,
      "metadata": {
        "id": "UkDCH15v_2I6"
      },
      "outputs": [],
      "source": [
        "# dataset shape:\n",
        "# - 172 batches\n",
        "# - 64 sequences per batch\n",
        "# - Each sequence is a tuple of 2 sub-sequences of length 100 (input_text and target_text)\n",
        "#\n",
        "#\n",
        "#     100       100           100             100       100           100\n",
        "# |/(.....)\\ /(.....)\\ ... /(.....)\\| ... |/(.....)\\ /(.....)\\ ... /(.....)\\|  <-- input_text\n",
        "# |\\(.....)/ \\(.....)/     \\(.....)/| ... |\\(.....)/ \\(.....)/     \\(.....)/|  <-- target_text\n",
        "#\n",
        "# <------------- 64 ---------------->     <------------- 64 ---------------->\n",
        "#\n",
        "# <--------------------------------- 172 ----------------------------------->"
      ]
    },
    {
      "cell_type": "markdown",
      "metadata": {
        "id": "ghB-VwLlD-Oz"
      },
      "source": [
        "## Build the model\n",
        "\n",
        "Use [tf.keras.Sequential](https://www.tensorflow.org/api_docs/python/tf/keras/Sequential) to define the model. For this simple example three layers are used to define our model:\n",
        "\n",
        "- [tf.keras.layers.Embedding](https://www.tensorflow.org/api_docs/python/tf/keras/layers/Embedding): The input layer. A trainable lookup table that will map the numbers of each character to a vector with `embedding_dim` dimensions;\n",
        "- [tf.keras.layers.LSTM](https://www.tensorflow.org/api_docs/python/tf/keras/layers/LSTM): A type of RNN with size units=rnn_units (You can also use a GRU layer here.)\n",
        "- [tf.keras.layers.Dense](https://www.tensorflow.org/api_docs/python/tf/keras/layers/Dense): The output layer, with vocab_size outputs."
      ]
    },
    {
      "cell_type": "code",
      "execution_count": 26,
      "metadata": {
        "colab": {
          "base_uri": "https://localhost:8080/"
        },
        "id": "0cg8DlO3QjuT",
        "outputId": "f1a72996-59dc-4d94-f2b1-97c04625e91f"
      },
      "outputs": [
        {
          "output_type": "stream",
          "name": "stderr",
          "text": [
            "/usr/local/lib/python3.11/dist-packages/keras/src/layers/core/embedding.py:90: UserWarning: Argument `input_length` is deprecated. Just remove it.\n",
            "  warnings.warn(\n"
          ]
        },
        {
          "output_type": "stream",
          "name": "stdout",
          "text": [
            "\u001b[1m1/1\u001b[0m \u001b[32m━━━━━━━━━━━━━━━━━━━━\u001b[0m\u001b[37m\u001b[0m \u001b[1m1s\u001b[0m 731ms/step\n",
            "tmp_input_array shape: (2, 8)\n",
            "tmp_input_array:\n",
            "[[5 9 5 2 6 9 0 9]\n",
            " [6 3 8 2 4 1 1 8]]\n",
            "\n",
            "tmp_output_array shape: (2, 8, 5)\n",
            "tmp_output_array:\n",
            "[[[-4.6811998e-05  4.3235794e-03 -4.1754354e-02  3.0019764e-02\n",
            "   -6.1382763e-03]\n",
            "  [ 4.8906207e-03 -6.5658912e-03  3.6384668e-02 -4.3982115e-02\n",
            "    2.7079429e-02]\n",
            "  [-4.6811998e-05  4.3235794e-03 -4.1754354e-02  3.0019764e-02\n",
            "   -6.1382763e-03]\n",
            "  [-1.1146449e-02 -4.4132471e-03 -1.3424147e-02 -2.2740258e-02\n",
            "    2.0812247e-02]\n",
            "  [ 3.3075679e-02 -1.1669792e-02 -1.3073683e-03 -1.3901234e-02\n",
            "    1.2864735e-02]\n",
            "  [ 4.8906207e-03 -6.5658912e-03  3.6384668e-02 -4.3982115e-02\n",
            "    2.7079429e-02]\n",
            "  [-3.4422565e-02 -5.8365092e-03 -2.5097227e-02  1.5595388e-02\n",
            "   -1.9863427e-02]\n",
            "  [ 4.8906207e-03 -6.5658912e-03  3.6384668e-02 -4.3982115e-02\n",
            "    2.7079429e-02]]\n",
            "\n",
            " [[ 3.3075679e-02 -1.1669792e-02 -1.3073683e-03 -1.3901234e-02\n",
            "    1.2864735e-02]\n",
            "  [-2.3692548e-02 -1.6914237e-02  4.6580683e-02 -2.8907562e-02\n",
            "   -2.1840513e-02]\n",
            "  [ 3.1593692e-02 -1.5861213e-02  3.7476126e-02  4.2985450e-02\n",
            "   -3.8185082e-02]\n",
            "  [-1.1146449e-02 -4.4132471e-03 -1.3424147e-02 -2.2740258e-02\n",
            "    2.0812247e-02]\n",
            "  [ 1.7835665e-02 -3.7029169e-02 -4.2081393e-02 -2.3610605e-02\n",
            "   -3.3455767e-02]\n",
            "  [-4.6172358e-02  3.8145546e-02  4.1797645e-03 -3.9645433e-02\n",
            "    2.2950172e-03]\n",
            "  [-4.6172358e-02  3.8145546e-02  4.1797645e-03 -3.9645433e-02\n",
            "    2.2950172e-03]\n",
            "  [ 3.1593692e-02 -1.5861213e-02  3.7476126e-02  4.2985450e-02\n",
            "   -3.8185082e-02]]]\n"
          ]
        }
      ],
      "source": [
        "# Let's do a quick detour and see how Embeding layer works.\n",
        "# It takes several char indices sequences (batch) as an input.\n",
        "# It encodes every character of every sequence to a vector of tmp_embeding_size length.\n",
        "tmp_vocab_size = 10\n",
        "tmp_embeding_size = 5\n",
        "tmp_input_length = 8\n",
        "tmp_batch_size = 2\n",
        "\n",
        "tmp_model = tf.keras.models.Sequential()\n",
        "tmp_model.add(tf.keras.layers.Embedding(\n",
        "  input_dim=tmp_vocab_size,\n",
        "  output_dim=tmp_embeding_size,\n",
        "  input_length=tmp_input_length\n",
        "))\n",
        "# The model will take as input an integer matrix of size (batch, input_length).\n",
        "# The largest integer (i.e. word index) in the input should be no larger than 9 (tmp_vocab_size).\n",
        "# Now model.output_shape == (None, 10, 64), where None is the batch dimension.\n",
        "tmp_input_array = np.random.randint(\n",
        "  low=0,\n",
        "  high=tmp_vocab_size,\n",
        "  size=(tmp_batch_size, tmp_input_length)\n",
        ")\n",
        "tmp_model.compile('rmsprop', 'mse')\n",
        "tmp_output_array = tmp_model.predict(tmp_input_array)\n",
        "\n",
        "print('tmp_input_array shape:', tmp_input_array.shape)\n",
        "print('tmp_input_array:')\n",
        "print(tmp_input_array)\n",
        "print()\n",
        "print('tmp_output_array shape:', tmp_output_array.shape)\n",
        "print('tmp_output_array:')\n",
        "print(tmp_output_array)"
      ]
    },
    {
      "cell_type": "code",
      "execution_count": 27,
      "metadata": {
        "id": "I7ZuvZHBD_pS"
      },
      "outputs": [],
      "source": [
        "# Length of the vocabulary in chars.\n",
        "vocab_size = len(vocab)\n",
        "\n",
        "# The embedding dimension.\n",
        "embedding_dim = 256\n",
        "\n",
        "# Number of RNN units.\n",
        "rnn_units = 1024"
      ]
    },
    {
      "cell_type": "code",
      "execution_count": 28,
      "metadata": {
        "id": "-sojdDCAICWO"
      },
      "outputs": [],
      "source": [
        "def build_model(vocab_size, embedding_dim, rnn_units, batch_size):\n",
        "    model = tf.keras.models.Sequential()\n",
        "\n",
        "    model.add(tf.keras.layers.InputLayer(batch_input_shape=[batch_size, None]))\n",
        "\n",
        "    model.add(tf.keras.layers.Embedding(\n",
        "        input_dim=vocab_size,\n",
        "        output_dim=embedding_dim\n",
        "    ))\n",
        "\n",
        "\n",
        "    model.add(tf.keras.layers.LSTM(\n",
        "      units=rnn_units,\n",
        "      return_sequences=True,\n",
        "      stateful=True,\n",
        "      recurrent_initializer=tf.keras.initializers.GlorotNormal()\n",
        "    ))\n",
        "\n",
        "    model.add(tf.keras.layers.Dense(vocab_size))\n",
        "\n",
        "    return model\n",
        "\n"
      ]
    },
    {
      "cell_type": "code",
      "execution_count": 29,
      "metadata": {
        "id": "XoPwxyAPEg6z"
      },
      "outputs": [],
      "source": [
        "model = build_model(vocab_size, embedding_dim, rnn_units, BATCH_SIZE)"
      ]
    },
    {
      "cell_type": "code",
      "execution_count": 30,
      "metadata": {
        "colab": {
          "base_uri": "https://localhost:8080/",
          "height": 225
        },
        "id": "iLnlZFgU55bQ",
        "outputId": "a6171fab-212c-4a16-f437-e31c01c42319"
      },
      "outputs": [
        {
          "output_type": "display_data",
          "data": {
            "text/plain": [
              "\u001b[1mModel: \"sequential_1\"\u001b[0m\n"
            ],
            "text/html": [
              "<pre style=\"white-space:pre;overflow-x:auto;line-height:normal;font-family:Menlo,'DejaVu Sans Mono',consolas,'Courier New',monospace\"><span style=\"font-weight: bold\">Model: \"sequential_1\"</span>\n",
              "</pre>\n"
            ]
          },
          "metadata": {}
        },
        {
          "output_type": "display_data",
          "data": {
            "text/plain": [
              "┏━━━━━━━━━━━━━━━━━━━━━━━━━━━━━━━━━┳━━━━━━━━━━━━━━━━━━━━━━━━┳━━━━━━━━━━━━━━━┓\n",
              "┃\u001b[1m \u001b[0m\u001b[1mLayer (type)                   \u001b[0m\u001b[1m \u001b[0m┃\u001b[1m \u001b[0m\u001b[1mOutput Shape          \u001b[0m\u001b[1m \u001b[0m┃\u001b[1m \u001b[0m\u001b[1m      Param #\u001b[0m\u001b[1m \u001b[0m┃\n",
              "┡━━━━━━━━━━━━━━━━━━━━━━━━━━━━━━━━━╇━━━━━━━━━━━━━━━━━━━━━━━━╇━━━━━━━━━━━━━━━┩\n",
              "│ embedding_1 (\u001b[38;5;33mEmbedding\u001b[0m)         │ (\u001b[38;5;34m64\u001b[0m, \u001b[38;5;45mNone\u001b[0m, \u001b[38;5;34m256\u001b[0m)        │        \u001b[38;5;34m16,640\u001b[0m │\n",
              "├─────────────────────────────────┼────────────────────────┼───────────────┤\n",
              "│ lstm (\u001b[38;5;33mLSTM\u001b[0m)                     │ (\u001b[38;5;34m64\u001b[0m, \u001b[38;5;45mNone\u001b[0m, \u001b[38;5;34m1024\u001b[0m)       │     \u001b[38;5;34m5,246,976\u001b[0m │\n",
              "├─────────────────────────────────┼────────────────────────┼───────────────┤\n",
              "│ dense (\u001b[38;5;33mDense\u001b[0m)                   │ (\u001b[38;5;34m64\u001b[0m, \u001b[38;5;45mNone\u001b[0m, \u001b[38;5;34m65\u001b[0m)         │        \u001b[38;5;34m66,625\u001b[0m │\n",
              "└─────────────────────────────────┴────────────────────────┴───────────────┘\n"
            ],
            "text/html": [
              "<pre style=\"white-space:pre;overflow-x:auto;line-height:normal;font-family:Menlo,'DejaVu Sans Mono',consolas,'Courier New',monospace\">┏━━━━━━━━━━━━━━━━━━━━━━━━━━━━━━━━━┳━━━━━━━━━━━━━━━━━━━━━━━━┳━━━━━━━━━━━━━━━┓\n",
              "┃<span style=\"font-weight: bold\"> Layer (type)                    </span>┃<span style=\"font-weight: bold\"> Output Shape           </span>┃<span style=\"font-weight: bold\">       Param # </span>┃\n",
              "┡━━━━━━━━━━━━━━━━━━━━━━━━━━━━━━━━━╇━━━━━━━━━━━━━━━━━━━━━━━━╇━━━━━━━━━━━━━━━┩\n",
              "│ embedding_1 (<span style=\"color: #0087ff; text-decoration-color: #0087ff\">Embedding</span>)         │ (<span style=\"color: #00af00; text-decoration-color: #00af00\">64</span>, <span style=\"color: #00d7ff; text-decoration-color: #00d7ff\">None</span>, <span style=\"color: #00af00; text-decoration-color: #00af00\">256</span>)        │        <span style=\"color: #00af00; text-decoration-color: #00af00\">16,640</span> │\n",
              "├─────────────────────────────────┼────────────────────────┼───────────────┤\n",
              "│ lstm (<span style=\"color: #0087ff; text-decoration-color: #0087ff\">LSTM</span>)                     │ (<span style=\"color: #00af00; text-decoration-color: #00af00\">64</span>, <span style=\"color: #00d7ff; text-decoration-color: #00d7ff\">None</span>, <span style=\"color: #00af00; text-decoration-color: #00af00\">1024</span>)       │     <span style=\"color: #00af00; text-decoration-color: #00af00\">5,246,976</span> │\n",
              "├─────────────────────────────────┼────────────────────────┼───────────────┤\n",
              "│ dense (<span style=\"color: #0087ff; text-decoration-color: #0087ff\">Dense</span>)                   │ (<span style=\"color: #00af00; text-decoration-color: #00af00\">64</span>, <span style=\"color: #00d7ff; text-decoration-color: #00d7ff\">None</span>, <span style=\"color: #00af00; text-decoration-color: #00af00\">65</span>)         │        <span style=\"color: #00af00; text-decoration-color: #00af00\">66,625</span> │\n",
              "└─────────────────────────────────┴────────────────────────┴───────────────┘\n",
              "</pre>\n"
            ]
          },
          "metadata": {}
        },
        {
          "output_type": "display_data",
          "data": {
            "text/plain": [
              "\u001b[1m Total params: \u001b[0m\u001b[38;5;34m5,330,241\u001b[0m (20.33 MB)\n"
            ],
            "text/html": [
              "<pre style=\"white-space:pre;overflow-x:auto;line-height:normal;font-family:Menlo,'DejaVu Sans Mono',consolas,'Courier New',monospace\"><span style=\"font-weight: bold\"> Total params: </span><span style=\"color: #00af00; text-decoration-color: #00af00\">5,330,241</span> (20.33 MB)\n",
              "</pre>\n"
            ]
          },
          "metadata": {}
        },
        {
          "output_type": "display_data",
          "data": {
            "text/plain": [
              "\u001b[1m Trainable params: \u001b[0m\u001b[38;5;34m5,330,241\u001b[0m (20.33 MB)\n"
            ],
            "text/html": [
              "<pre style=\"white-space:pre;overflow-x:auto;line-height:normal;font-family:Menlo,'DejaVu Sans Mono',consolas,'Courier New',monospace\"><span style=\"font-weight: bold\"> Trainable params: </span><span style=\"color: #00af00; text-decoration-color: #00af00\">5,330,241</span> (20.33 MB)\n",
              "</pre>\n"
            ]
          },
          "metadata": {}
        },
        {
          "output_type": "display_data",
          "data": {
            "text/plain": [
              "\u001b[1m Non-trainable params: \u001b[0m\u001b[38;5;34m0\u001b[0m (0.00 B)\n"
            ],
            "text/html": [
              "<pre style=\"white-space:pre;overflow-x:auto;line-height:normal;font-family:Menlo,'DejaVu Sans Mono',consolas,'Courier New',monospace\"><span style=\"font-weight: bold\"> Non-trainable params: </span><span style=\"color: #00af00; text-decoration-color: #00af00\">0</span> (0.00 B)\n",
              "</pre>\n"
            ]
          },
          "metadata": {}
        }
      ],
      "source": [
        "model.summary()"
      ]
    },
    {
      "cell_type": "code",
      "execution_count": 31,
      "metadata": {
        "colab": {
          "base_uri": "https://localhost:8080/",
          "height": 638
        },
        "id": "CcaO_rO_8-GH",
        "outputId": "92305f9e-89f9-4089-df30-ad39f353ad72"
      },
      "outputs": [
        {
          "output_type": "execute_result",
          "data": {
            "image/png": "[encoded data removed]",
            "text/plain": [
              "<IPython.core.display.Image object>"
            ]
          },
          "metadata": {},
          "execution_count": 31
        }
      ],
      "source": [
        "tf.keras.utils.plot_model(\n",
        "    model,\n",
        "    show_shapes=True,\n",
        "    show_layer_names=True,\n",
        ")"
      ]
    },
    {
      "cell_type": "markdown",
      "metadata": {
        "id": "JpL9idwZV6fL"
      },
      "source": [
        "For each character the model looks up the embedding, runs the GRU one timestep with the embedding as input, and applies the dense layer to generate logits predicting the log-likelihood of the next character:\n",
        "\n",
        "![Model architecture](https://www.tensorflow.org/tutorials/text/images/text_generation_training.png)\n",
        "\n",
        "Image source: [Text generation with an RNN](https://www.tensorflow.org/tutorials/text/text_generation) notebook."
      ]
    },
    {
      "cell_type": "markdown",
      "metadata": {
        "id": "Npruiy2RAPkt"
      },
      "source": [
        "## Try the model"
      ]
    },
    {
      "cell_type": "code",
      "execution_count": 32,
      "metadata": {
        "colab": {
          "base_uri": "https://localhost:8080/"
        },
        "id": "E4DCLA0GASL1",
        "outputId": "a4b42cd4-149d-4677-e5e7-82401796e0c0"
      },
      "outputs": [
        {
          "output_type": "stream",
          "name": "stdout",
          "text": [
            "(64, 100, 65) # (batch_size, sequence_length, vocab_size)\n"
          ]
        }
      ],
      "source": [
        "for input_example_batch, target_example_batch in dataset.take(1):\n",
        "    example_batch_predictions = model(input_example_batch)\n",
        "    print(example_batch_predictions.shape, \"# (batch_size, sequence_length, vocab_size)\")\n"
      ]
    },
    {
      "cell_type": "markdown",
      "metadata": {
        "id": "MWebJXU9CEPd"
      },
      "source": [
        "To get actual predictions from the model we need to sample from the output distribution, to get actual character indices. This distribution is defined by the logits over the character vocabulary."
      ]
    },
    {
      "cell_type": "code",
      "execution_count": 33,
      "metadata": {
        "colab": {
          "base_uri": "https://localhost:8080/"
        },
        "id": "Y4Jgo-iECFWI",
        "outputId": "43ea7b16-27da-40c2-a67c-ddf8c8a4f362"
      },
      "outputs": [
        {
          "output_type": "stream",
          "name": "stdout",
          "text": [
            "Prediction for the 1st letter of the batch 1st sequense:\n",
            "tf.Tensor(\n",
            "[-3.4734812e-03  2.5185382e-03  3.1643892e-03 -4.4435342e-03\n",
            "  3.6218064e-03  7.5885662e-05  4.1231752e-04 -9.6955884e-04\n",
            " -2.7346993e-03 -1.8920050e-03  7.2625512e-03  1.3870329e-03\n",
            "  7.4166816e-04  1.5853643e-03 -1.9855579e-04 -9.9030486e-04\n",
            "  5.7298508e-03 -1.6611975e-03 -1.0728616e-03 -7.6398635e-03\n",
            "  4.6342006e-03  2.7936057e-03  3.9780783e-03  3.5788682e-03\n",
            "  4.9523136e-05  1.5702944e-04 -1.9063962e-04 -4.1473438e-03\n",
            "  1.8917045e-03 -2.6209576e-03 -3.6763693e-03  1.3553347e-04\n",
            "  2.2717097e-03  5.4611629e-03  1.0337788e-03  3.8632522e-03\n",
            "  6.4683374e-04 -4.5034024e-03 -5.0010881e-04 -5.7908747e-04\n",
            " -1.2617881e-03  2.4366982e-03 -8.3891209e-05  8.4718817e-04\n",
            " -6.6037513e-03 -3.1923910e-04  9.2328870e-04 -6.3544856e-03\n",
            " -6.7803711e-03  5.6792204e-03  5.0555053e-03  1.1877983e-03\n",
            " -4.0892558e-03  1.4434513e-03 -2.3828990e-04 -1.5060266e-03\n",
            "  1.8265063e-03 -5.9366028e-04  3.2485379e-03  1.9490675e-03\n",
            " -3.3818490e-03  5.0581677e-04 -1.9988932e-03  1.6815093e-03\n",
            "  5.7059908e-03], shape=(65,), dtype=float32)\n"
          ]
        }
      ],
      "source": [
        "print('Prediction for the 1st letter of the batch 1st sequense:')\n",
        "print(example_batch_predictions[0, 0])"
      ]
    },
    {
      "cell_type": "code",
      "execution_count": 34,
      "metadata": {
        "colab": {
          "base_uri": "https://localhost:8080/"
        },
        "id": "0dOr0MwFHlRb",
        "outputId": "4b620103-5845-4def-8842-752e4c6be99f"
      },
      "outputs": [
        {
          "output_type": "stream",
          "name": "stdout",
          "text": [
            "tf.Tensor([[2 2 2 1 1]], shape=(1, 5), dtype=int64)\n"
          ]
        }
      ],
      "source": [
        "# Quick overview of how tf.random.categorical() works.\n",
        "\n",
        "# logits is 2-D Tensor with shape [batch_size, num_classes].\n",
        "# Each slice [i, :] represents the unnormalized log-probabilities for all classes.\n",
        "# In the example below we say that the probability for class \"0\" is low but the\n",
        "# probability for class \"2\" is much higher.\n",
        "tmp_logits = [\n",
        "  [-0.95, 0, 0.95],\n",
        "];\n",
        "\n",
        "# Let's generate 5 samples. Each sample is a class index. Class probabilities\n",
        "# are being taken into account (we expect to see more samples of class \"2\").\n",
        "tmp_samples = tf.random.categorical(\n",
        "    logits=tmp_logits,\n",
        "    num_samples=5\n",
        ")\n",
        "\n",
        "print(tmp_samples)"
      ]
    },
    {
      "cell_type": "code",
      "execution_count": 35,
      "metadata": {
        "colab": {
          "base_uri": "https://localhost:8080/"
        },
        "id": "JPzr0r4zCgS3",
        "outputId": "ec258bcd-9139-495b-8c2a-cb0eaca9f2b3"
      },
      "outputs": [
        {
          "output_type": "execute_result",
          "data": {
            "text/plain": [
              "TensorShape([100, 1])"
            ]
          },
          "metadata": {},
          "execution_count": 35
        }
      ],
      "source": [
        "sampled_indices = tf.random.categorical(\n",
        "    logits=example_batch_predictions[0],\n",
        "    num_samples=1\n",
        ")\n",
        "\n",
        "sampled_indices.shape"
      ]
    },
    {
      "cell_type": "code",
      "execution_count": 36,
      "metadata": {
        "colab": {
          "base_uri": "https://localhost:8080/"
        },
        "id": "YaA7DclID8dz",
        "outputId": "9a127df5-1c9f-4797-f4ea-7c3c39c96bec"
      },
      "outputs": [
        {
          "output_type": "execute_result",
          "data": {
            "text/plain": [
              "(100,)"
            ]
          },
          "metadata": {},
          "execution_count": 36
        }
      ],
      "source": [
        "sampled_indices = tf.squeeze(\n",
        "    input=sampled_indices,\n",
        "    axis=-1\n",
        ").numpy()\n",
        "\n",
        "sampled_indices.shape"
      ]
    },
    {
      "cell_type": "code",
      "execution_count": 37,
      "metadata": {
        "colab": {
          "base_uri": "https://localhost:8080/"
        },
        "id": "_ubGQ0gVENhB",
        "outputId": "68ccf31a-ca2c-4481-bf90-e4559db22b02"
      },
      "outputs": [
        {
          "output_type": "execute_result",
          "data": {
            "text/plain": [
              "array([47, 44, 39, 55, 48,  5, 55, 57, 15, 15, 10,  9,  8, 12, 29,  7, 47,\n",
              "       46, 52, 50, 13, 43, 43, 52,  1, 30, 55, 31, 33, 25, 21, 45,  1, 64,\n",
              "        8, 49, 34,  6, 22, 61, 56, 62, 20, 50, 42, 24, 22,  5, 53,  3, 16,\n",
              "       61, 37, 43,  6, 47, 24, 57,  3, 41,  3, 46, 23, 35, 60, 17, 52, 51,\n",
              "       55, 33, 14, 33, 57,  7, 37, 57, 40, 36,  1, 54, 25, 26, 12, 17, 21,\n",
              "       25, 40, 17, 25, 18, 24, 64, 17,  4, 62, 26, 57, 24, 51, 32])"
            ]
          },
          "metadata": {},
          "execution_count": 37
        }
      ],
      "source": [
        "sampled_indices"
      ]
    },
    {
      "cell_type": "code",
      "execution_count": 38,
      "metadata": {
        "colab": {
          "base_uri": "https://localhost:8080/"
        },
        "id": "Gi9HOzw9EajS",
        "outputId": "57054eff-de7e-452e-db0c-cd01b8d2eaea"
      },
      "outputs": [
        {
          "output_type": "stream",
          "name": "stdout",
          "text": [
            "Input:\n",
            " \" army; and himself,\\nLord Clifford and Lord Stafford, all abreast,\\nCharged our main battle's front, a\"\n",
            "\n",
            "Next char prediction:\n",
            " \"ifaqj'qsCC:3.?Q-ihnlAeen RqSUMIg z.kV,JwrxHldLJ'o$DwYe,iLs$c$hKWvEnmqUBUs-YsbX pMN?EIMbEMFLzE&xNsLmT\"\n"
          ]
        }
      ],
      "source": [
        "print('Input:\\n', repr(''.join(index2char[input_example_batch[0]])))\n",
        "print()\n",
        "print('Next char prediction:\\n', repr(''.join(index2char[sampled_indices])))"
      ]
    },
    {
      "cell_type": "code",
      "execution_count": 39,
      "metadata": {
        "colab": {
          "base_uri": "https://localhost:8080/"
        },
        "id": "b87e0lsYMTsv",
        "outputId": "640764b8-8eeb-4796-f15f-da85ede089d0"
      },
      "outputs": [
        {
          "output_type": "stream",
          "name": "stdout",
          "text": [
            "Prediction  0\n",
            "  input: 1 (np.str_(' '))\n",
            "  next predicted: 1 (np.str_('i'))\n",
            "Prediction  1\n",
            "  input: 39 (np.str_('a'))\n",
            "  next predicted: 1 (np.str_('f'))\n",
            "Prediction  2\n",
            "  input: 56 (np.str_('r'))\n",
            "  next predicted: 1 (np.str_('a'))\n",
            "Prediction  3\n",
            "  input: 51 (np.str_('m'))\n",
            "  next predicted: 1 (np.str_('q'))\n",
            "Prediction  4\n",
            "  input: 63 (np.str_('y'))\n",
            "  next predicted: 1 (np.str_('j'))\n"
          ]
        }
      ],
      "source": [
        "for i, (input_idx, sample_idx) in enumerate(zip(input_example_batch[0][:5], sampled_indices[:5])):\n",
        "    print('Prediction {:2d}'.format(i))\n",
        "    print('  input: {} ({:s})'.format(input_idx, repr(index2char[input_idx])))\n",
        "    print('  next predicted: {} ({:s})'.format(target_idx, repr(index2char[sample_idx])))"
      ]
    },
    {
      "cell_type": "markdown",
      "metadata": {
        "id": "LqcBufKEE_p6"
      },
      "source": [
        "## Train the model\n",
        "\n",
        "At this point the problem can be treated as a standard classification problem. Given the previous RNN state, and the input this time step, predict the class of the next character."
      ]
    },
    {
      "cell_type": "markdown",
      "metadata": {
        "id": "l4s0-PvrFub5"
      },
      "source": [
        "### Attach an optimizer, and a loss function"
      ]
    },
    {
      "cell_type": "code",
      "execution_count": 40,
      "metadata": {
        "colab": {
          "base_uri": "https://localhost:8080/"
        },
        "id": "UOEUUm6JE95a",
        "outputId": "749fe348-2ab0-43c2-eab6-0e31e7d0aee6"
      },
      "outputs": [
        {
          "output_type": "stream",
          "name": "stdout",
          "text": [
            "Prediction shape:  (64, 100, 65)  # (batch_size, sequence_length, vocab_size)\n",
            "scalar_loss:       4.1744967\n"
          ]
        }
      ],
      "source": [
        "# An objective function.\n",
        "# The function is any callable with the signature scalar_loss = fn(y_true, y_pred).\n",
        "def loss(labels, logits):\n",
        "    return tf.keras.losses.sparse_categorical_crossentropy(\n",
        "      y_true=labels,\n",
        "      y_pred=logits,\n",
        "      from_logits=True\n",
        "    )\n",
        "\n",
        "example_batch_loss = loss(target_example_batch, example_batch_predictions)\n",
        "\n",
        "print(\"Prediction shape: \", example_batch_predictions.shape, \" # (batch_size, sequence_length, vocab_size)\")\n",
        "print(\"scalar_loss:      \", example_batch_loss.numpy().mean())"
      ]
    },
    {
      "cell_type": "code",
      "execution_count": 41,
      "metadata": {
        "id": "SXhJsB6eFgrJ"
      },
      "outputs": [],
      "source": [
        "adam_optimizer = tf.keras.optimizers.Adam(learning_rate=0.001)\n",
        "model.compile(\n",
        "    optimizer=adam_optimizer,\n",
        "    loss=loss\n",
        ")"
      ]
    },
    {
      "cell_type": "markdown",
      "metadata": {
        "id": "MK3Cf-xZFwL4"
      },
      "source": [
        "### Configure checkpoints"
      ]
    },
    {
      "cell_type": "code",
      "execution_count": 42,
      "metadata": {
        "id": "LUhXnHPJFy5q"
      },
      "outputs": [],
      "source": [
        "# Directory where the checkpoints will be saved.\n",
        "checkpoint_dir = 'tmp/checkpoints'\n",
        "os.makedirs(checkpoint_dir, exist_ok=True)\n",
        "\n",
        "# Name of the checkpoint files\n",
        "checkpoint_prefix = os.path.join(checkpoint_dir, 'ckpt_{epoch}.weights.h5')\n",
        "\n",
        "checkpoint_callback=tf.keras.callbacks.ModelCheckpoint(\n",
        "    filepath=checkpoint_prefix,\n",
        "    save_weights_only=True\n",
        ")"
      ]
    },
    {
      "cell_type": "markdown",
      "metadata": {
        "id": "oFg9MFJoGZWf"
      },
      "source": [
        "### Execute the training"
      ]
    },
    {
      "cell_type": "code",
      "execution_count": 43,
      "metadata": {
        "id": "AVk-pARPGaja"
      },
      "outputs": [],
      "source": [
        "EPOCHS=40"
      ]
    },
    {
      "cell_type": "code",
      "execution_count": 44,
      "metadata": {
        "colab": {
          "base_uri": "https://localhost:8080/"
        },
        "id": "y0rveBdAGeEz",
        "outputId": "669182fc-0380-4e30-bb0b-eb4f00863761"
      },
      "outputs": [
        {
          "output_type": "stream",
          "name": "stdout",
          "text": [
            "Epoch 1/40\n",
            "\u001b[1m172/172\u001b[0m \u001b[32m━━━━━━━━━━━━━━━━━━━━\u001b[0m\u001b[37m\u001b[0m \u001b[1m15s\u001b[0m 62ms/step - loss: 2.8923\n",
            "Epoch 2/40\n",
            "\u001b[1m172/172\u001b[0m \u001b[32m━━━━━━━━━━━━━━━━━━━━\u001b[0m\u001b[37m\u001b[0m \u001b[1m13s\u001b[0m 64ms/step - loss: 1.8752\n",
            "Epoch 3/40\n",
            "\u001b[1m172/172\u001b[0m \u001b[32m━━━━━━━━━━━━━━━━━━━━\u001b[0m\u001b[37m\u001b[0m \u001b[1m20s\u001b[0m 65ms/step - loss: 1.6196\n",
            "Epoch 4/40\n",
            "\u001b[1m172/172\u001b[0m \u001b[32m━━━━━━━━━━━━━━━━━━━━\u001b[0m\u001b[37m\u001b[0m \u001b[1m13s\u001b[0m 65ms/step - loss: 1.4905\n",
            "Epoch 5/40\n",
            "\u001b[1m172/172\u001b[0m \u001b[32m━━━━━━━━━━━━━━━━━━━━\u001b[0m\u001b[37m\u001b[0m \u001b[1m21s\u001b[0m 65ms/step - loss: 1.4121\n",
            "Epoch 6/40\n",
            "\u001b[1m172/172\u001b[0m \u001b[32m━━━━━━━━━━━━━━━━━━━━\u001b[0m\u001b[37m\u001b[0m \u001b[1m13s\u001b[0m 66ms/step - loss: 1.3564\n",
            "Epoch 7/40\n",
            "\u001b[1m172/172\u001b[0m \u001b[32m━━━━━━━━━━━━━━━━━━━━\u001b[0m\u001b[37m\u001b[0m \u001b[1m13s\u001b[0m 66ms/step - loss: 1.3165\n",
            "Epoch 8/40\n",
            "\u001b[1m172/172\u001b[0m \u001b[32m━━━━━━━━━━━━━━━━━━━━\u001b[0m\u001b[37m\u001b[0m \u001b[1m20s\u001b[0m 66ms/step - loss: 1.2815\n",
            "Epoch 9/40\n",
            "\u001b[1m172/172\u001b[0m \u001b[32m━━━━━━━━━━━━━━━━━━━━\u001b[0m\u001b[37m\u001b[0m \u001b[1m13s\u001b[0m 67ms/step - loss: 1.2456\n",
            "Epoch 10/40\n",
            "\u001b[1m172/172\u001b[0m \u001b[32m━━━━━━━━━━━━━━━━━━━━\u001b[0m\u001b[37m\u001b[0m \u001b[1m13s\u001b[0m 67ms/step - loss: 1.2144\n",
            "Epoch 11/40\n",
            "\u001b[1m172/172\u001b[0m \u001b[32m━━━━━━━━━━━━━━━━━━━━\u001b[0m\u001b[37m\u001b[0m \u001b[1m13s\u001b[0m 68ms/step - loss: 1.1840\n",
            "Epoch 12/40\n",
            "\u001b[1m172/172\u001b[0m \u001b[32m━━━━━━━━━━━━━━━━━━━━\u001b[0m\u001b[37m\u001b[0m \u001b[1m14s\u001b[0m 68ms/step - loss: 1.1507\n",
            "Epoch 13/40\n",
            "\u001b[1m172/172\u001b[0m \u001b[32m━━━━━━━━━━━━━━━━━━━━\u001b[0m\u001b[37m\u001b[0m \u001b[1m20s\u001b[0m 68ms/step - loss: 1.1206\n",
            "Epoch 14/40\n",
            "\u001b[1m172/172\u001b[0m \u001b[32m━━━━━━━━━━━━━━━━━━━━\u001b[0m\u001b[37m\u001b[0m \u001b[1m13s\u001b[0m 68ms/step - loss: 1.0841\n",
            "Epoch 15/40\n",
            "\u001b[1m172/172\u001b[0m \u001b[32m━━━━━━━━━━━━━━━━━━━━\u001b[0m\u001b[37m\u001b[0m \u001b[1m21s\u001b[0m 68ms/step - loss: 1.0517\n",
            "Epoch 16/40\n",
            "\u001b[1m172/172\u001b[0m \u001b[32m━━━━━━━━━━━━━━━━━━━━\u001b[0m\u001b[37m\u001b[0m \u001b[1m13s\u001b[0m 69ms/step - loss: 1.0172\n",
            "Epoch 17/40\n",
            "\u001b[1m172/172\u001b[0m \u001b[32m━━━━━━━━━━━━━━━━━━━━\u001b[0m\u001b[37m\u001b[0m \u001b[1m20s\u001b[0m 68ms/step - loss: 0.9829\n",
            "Epoch 18/40\n",
            "\u001b[1m172/172\u001b[0m \u001b[32m━━━━━━━━━━━━━━━━━━━━\u001b[0m\u001b[37m\u001b[0m \u001b[1m13s\u001b[0m 69ms/step - loss: 0.9463\n",
            "Epoch 19/40\n",
            "\u001b[1m172/172\u001b[0m \u001b[32m━━━━━━━━━━━━━━━━━━━━\u001b[0m\u001b[37m\u001b[0m \u001b[1m20s\u001b[0m 68ms/step - loss: 0.9101\n",
            "Epoch 20/40\n",
            "\u001b[1m172/172\u001b[0m \u001b[32m━━━━━━━━━━━━━━━━━━━━\u001b[0m\u001b[37m\u001b[0m \u001b[1m14s\u001b[0m 69ms/step - loss: 0.8743\n",
            "Epoch 21/40\n",
            "\u001b[1m172/172\u001b[0m \u001b[32m━━━━━━━━━━━━━━━━━━━━\u001b[0m\u001b[37m\u001b[0m \u001b[1m20s\u001b[0m 68ms/step - loss: 0.8405\n",
            "Epoch 22/40\n",
            "\u001b[1m172/172\u001b[0m \u001b[32m━━━━━━━━━━━━━━━━━━━━\u001b[0m\u001b[37m\u001b[0m \u001b[1m14s\u001b[0m 69ms/step - loss: 0.8073\n",
            "Epoch 23/40\n",
            "\u001b[1m172/172\u001b[0m \u001b[32m━━━━━━━━━━━━━━━━━━━━\u001b[0m\u001b[37m\u001b[0m \u001b[1m14s\u001b[0m 69ms/step - loss: 0.7714\n",
            "Epoch 24/40\n",
            "\u001b[1m172/172\u001b[0m \u001b[32m━━━━━━━━━━━━━━━━━━━━\u001b[0m\u001b[37m\u001b[0m \u001b[1m14s\u001b[0m 69ms/step - loss: 0.7412\n",
            "Epoch 25/40\n",
            "\u001b[1m172/172\u001b[0m \u001b[32m━━━━━━━━━━━━━━━━━━━━\u001b[0m\u001b[37m\u001b[0m \u001b[1m14s\u001b[0m 70ms/step - loss: 0.7127\n",
            "Epoch 26/40\n",
            "\u001b[1m172/172\u001b[0m \u001b[32m━━━━━━━━━━━━━━━━━━━━\u001b[0m\u001b[37m\u001b[0m \u001b[1m14s\u001b[0m 70ms/step - loss: 0.6835\n",
            "Epoch 27/40\n",
            "\u001b[1m172/172\u001b[0m \u001b[32m━━━━━━━━━━━━━━━━━━━━\u001b[0m\u001b[37m\u001b[0m \u001b[1m15s\u001b[0m 71ms/step - loss: 0.6594\n",
            "Epoch 28/40\n",
            "\u001b[1m172/172\u001b[0m \u001b[32m━━━━━━━━━━━━━━━━━━━━\u001b[0m\u001b[37m\u001b[0m \u001b[1m19s\u001b[0m 70ms/step - loss: 0.6356\n",
            "Epoch 29/40\n",
            "\u001b[1m172/172\u001b[0m \u001b[32m━━━━━━━━━━━━━━━━━━━━\u001b[0m\u001b[37m\u001b[0m \u001b[1m20s\u001b[0m 70ms/step - loss: 0.6116\n",
            "Epoch 30/40\n",
            "\u001b[1m172/172\u001b[0m \u001b[32m━━━━━━━━━━━━━━━━━━━━\u001b[0m\u001b[37m\u001b[0m \u001b[1m20s\u001b[0m 70ms/step - loss: 0.5947\n",
            "Epoch 31/40\n",
            "\u001b[1m172/172\u001b[0m \u001b[32m━━━━━━━━━━━━━━━━━━━━\u001b[0m\u001b[37m\u001b[0m \u001b[1m20s\u001b[0m 69ms/step - loss: 0.5759\n",
            "Epoch 32/40\n",
            "\u001b[1m172/172\u001b[0m \u001b[32m━━━━━━━━━━━━━━━━━━━━\u001b[0m\u001b[37m\u001b[0m \u001b[1m20s\u001b[0m 69ms/step - loss: 0.5570\n",
            "Epoch 33/40\n",
            "\u001b[1m172/172\u001b[0m \u001b[32m━━━━━━━━━━━━━━━━━━━━\u001b[0m\u001b[37m\u001b[0m \u001b[1m20s\u001b[0m 69ms/step - loss: 0.5437\n",
            "Epoch 34/40\n",
            "\u001b[1m172/172\u001b[0m \u001b[32m━━━━━━━━━━━━━━━━━━━━\u001b[0m\u001b[37m\u001b[0m \u001b[1m14s\u001b[0m 70ms/step - loss: 0.5282\n",
            "Epoch 35/40\n",
            "\u001b[1m172/172\u001b[0m \u001b[32m━━━━━━━━━━━━━━━━━━━━\u001b[0m\u001b[37m\u001b[0m \u001b[1m14s\u001b[0m 70ms/step - loss: 0.5165\n",
            "Epoch 36/40\n",
            "\u001b[1m172/172\u001b[0m \u001b[32m━━━━━━━━━━━━━━━━━━━━\u001b[0m\u001b[37m\u001b[0m \u001b[1m20s\u001b[0m 69ms/step - loss: 0.5034\n",
            "Epoch 37/40\n",
            "\u001b[1m172/172\u001b[0m \u001b[32m━━━━━━━━━━━━━━━━━━━━\u001b[0m\u001b[37m\u001b[0m \u001b[1m14s\u001b[0m 70ms/step - loss: 0.4937\n",
            "Epoch 38/40\n",
            "\u001b[1m172/172\u001b[0m \u001b[32m━━━━━━━━━━━━━━━━━━━━\u001b[0m\u001b[37m\u001b[0m \u001b[1m14s\u001b[0m 70ms/step - loss: 0.4857\n",
            "Epoch 39/40\n",
            "\u001b[1m172/172\u001b[0m \u001b[32m━━━━━━━━━━━━━━━━━━━━\u001b[0m\u001b[37m\u001b[0m \u001b[1m14s\u001b[0m 70ms/step - loss: 0.4771\n",
            "Epoch 40/40\n",
            "\u001b[1m172/172\u001b[0m \u001b[32m━━━━━━━━━━━━━━━━━━━━\u001b[0m\u001b[37m\u001b[0m \u001b[1m15s\u001b[0m 70ms/step - loss: 0.4662\n"
          ]
        }
      ],
      "source": [
        "history = model.fit(\n",
        "  x=dataset,\n",
        "  epochs=EPOCHS,\n",
        "  callbacks=[\n",
        "    checkpoint_callback\n",
        "  ]\n",
        ")"
      ]
    },
    {
      "cell_type": "code",
      "execution_count": 45,
      "metadata": {
        "id": "mLdnOyvzMggJ"
      },
      "outputs": [],
      "source": [
        "def render_training_history(training_history):\n",
        "    loss = training_history.history['loss']\n",
        "    plt.title('Loss')\n",
        "    plt.xlabel('Epoch')\n",
        "    plt.ylabel('Loss')\n",
        "    plt.plot(loss, label='Training set')\n",
        "    plt.legend()\n",
        "    plt.grid(linestyle='--', linewidth=1, alpha=0.5)\n",
        "    plt.show()"
      ]
    },
    {
      "cell_type": "code",
      "execution_count": 46,
      "metadata": {
        "colab": {
          "base_uri": "https://localhost:8080/",
          "height": 472
        },
        "id": "4Ghveem_OQBV",
        "outputId": "45c2f812-1c97-4fb1-a615-ff67137228da"
      },
      "outputs": [
        {
          "output_type": "display_data",
          "data": {
            "text/plain": [
              "<Figure size 640x480 with 1 Axes>"
            ],
            "image/png": "[encoded data removed]"
          },
          "metadata": {}
        }
      ],
      "source": [
        "render_training_history(history)"
      ]
    },
    {
      "cell_type": "markdown",
      "metadata": {
        "id": "X-dhNP2OG2EM"
      },
      "source": [
        "## Generate text"
      ]
    },
    {
      "cell_type": "markdown",
      "metadata": {
        "id": "SU_YfP6sG3NC"
      },
      "source": [
        "### Restore the latest checkpoint\n",
        "\n",
        "To keep this prediction step simple, use a batch size of 1.\n",
        "\n",
        "Because of the way the RNN state is passed from timestep to timestep, the model only accepts a fixed batch size once built.\n",
        "\n",
        "To run the model with a different `batch_size`, we need to rebuild the model and restore the weights from the checkpoint."
      ]
    },
    {
      "cell_type": "code",
      "execution_count": 1,
      "metadata": {
        "id": "BlG8o3wiG6f2",
        "colab": {
          "base_uri": "https://localhost:8080/",
          "height": 139
        },
        "outputId": "b289301b-3dbf-440d-b4cb-31f1531f3407"
      },
      "outputs": [
        {
          "output_type": "error",
          "ename": "NameError",
          "evalue": "name 'tf' is not defined",
          "traceback": [
            "\u001b[0;31m---------------------------------------------------------------------------\u001b[0m",
            "\u001b[0;31mNameError\u001b[0m                                 Traceback (most recent call last)",
            "\u001b[0;32m<ipython-input-1-dd4193ac2129>\u001b[0m in \u001b[0;36m<cell line: 0>\u001b[0;34m()\u001b[0m\n\u001b[0;32m----> 1\u001b[0;31m \u001b[0mtf\u001b[0m\u001b[0;34m.\u001b[0m\u001b[0mtrain\u001b[0m\u001b[0;34m.\u001b[0m\u001b[0mlatest_checkpoint\u001b[0m\u001b[0;34m(\u001b[0m\u001b[0mcheckpoint_dir\u001b[0m\u001b[0;34m)\u001b[0m\u001b[0;34m\u001b[0m\u001b[0;34m\u001b[0m\u001b[0m\n\u001b[0m",
            "\u001b[0;31mNameError\u001b[0m: name 'tf' is not defined"
          ]
        }
      ],
      "source": [
        "tf.train.latest_checkpoint(checkpoint_dir)"
      ]
    },
    {
      "cell_type": "code",
      "execution_count": 48,
      "metadata": {
        "id": "l7evN0LvH01P"
      },
      "outputs": [],
      "source": [
        "tf.train.latest_checkpoint(checkpoint_dir)\n",
        "simplified_batch_size = 1\n",
        "\n",
        "model = build_model(vocab_size, embedding_dim, rnn_units, batch_size=1)\n",
        "\n",
        "model.load_weights('tmp/checkpoints/ckpt_40.weights.h5')\n",
        "\n",
        "model.build(tf.TensorShape([simplified_batch_size, None]))"
      ]
    },
    {
      "cell_type": "code",
      "execution_count": 49,
      "metadata": {
        "colab": {
          "base_uri": "https://localhost:8080/",
          "height": 225
        },
        "id": "Y3eduDtZI9zQ",
        "outputId": "6a630699-bddc-4853-95e0-9cad1ccc4ee5"
      },
      "outputs": [
        {
          "output_type": "display_data",
          "data": {
            "text/plain": [
              "\u001b[1mModel: \"sequential_2\"\u001b[0m\n"
            ],
            "text/html": [
              "<pre style=\"white-space:pre;overflow-x:auto;line-height:normal;font-family:Menlo,'DejaVu Sans Mono',consolas,'Courier New',monospace\"><span style=\"font-weight: bold\">Model: \"sequential_2\"</span>\n",
              "</pre>\n"
            ]
          },
          "metadata": {}
        },
        {
          "output_type": "display_data",
          "data": {
            "text/plain": [
              "┏━━━━━━━━━━━━━━━━━━━━━━━━━━━━━━━━━┳━━━━━━━━━━━━━━━━━━━━━━━━┳━━━━━━━━━━━━━━━┓\n",
              "┃\u001b[1m \u001b[0m\u001b[1mLayer (type)                   \u001b[0m\u001b[1m \u001b[0m┃\u001b[1m \u001b[0m\u001b[1mOutput Shape          \u001b[0m\u001b[1m \u001b[0m┃\u001b[1m \u001b[0m\u001b[1m      Param #\u001b[0m\u001b[1m \u001b[0m┃\n",
              "┡━━━━━━━━━━━━━━━━━━━━━━━━━━━━━━━━━╇━━━━━━━━━━━━━━━━━━━━━━━━╇━━━━━━━━━━━━━━━┩\n",
              "│ embedding_2 (\u001b[38;5;33mEmbedding\u001b[0m)         │ (\u001b[38;5;34m1\u001b[0m, \u001b[38;5;45mNone\u001b[0m, \u001b[38;5;34m256\u001b[0m)         │        \u001b[38;5;34m16,640\u001b[0m │\n",
              "├─────────────────────────────────┼────────────────────────┼───────────────┤\n",
              "│ lstm_1 (\u001b[38;5;33mLSTM\u001b[0m)                   │ (\u001b[38;5;34m1\u001b[0m, \u001b[38;5;45mNone\u001b[0m, \u001b[38;5;34m1024\u001b[0m)        │     \u001b[38;5;34m5,246,976\u001b[0m │\n",
              "├─────────────────────────────────┼────────────────────────┼───────────────┤\n",
              "│ dense_1 (\u001b[38;5;33mDense\u001b[0m)                 │ (\u001b[38;5;34m1\u001b[0m, \u001b[38;5;45mNone\u001b[0m, \u001b[38;5;34m65\u001b[0m)          │        \u001b[38;5;34m66,625\u001b[0m │\n",
              "└─────────────────────────────────┴────────────────────────┴───────────────┘\n"
            ],
            "text/html": [
              "<pre style=\"white-space:pre;overflow-x:auto;line-height:normal;font-family:Menlo,'DejaVu Sans Mono',consolas,'Courier New',monospace\">┏━━━━━━━━━━━━━━━━━━━━━━━━━━━━━━━━━┳━━━━━━━━━━━━━━━━━━━━━━━━┳━━━━━━━━━━━━━━━┓\n",
              "┃<span style=\"font-weight: bold\"> Layer (type)                    </span>┃<span style=\"font-weight: bold\"> Output Shape           </span>┃<span style=\"font-weight: bold\">       Param # </span>┃\n",
              "┡━━━━━━━━━━━━━━━━━━━━━━━━━━━━━━━━━╇━━━━━━━━━━━━━━━━━━━━━━━━╇━━━━━━━━━━━━━━━┩\n",
              "│ embedding_2 (<span style=\"color: #0087ff; text-decoration-color: #0087ff\">Embedding</span>)         │ (<span style=\"color: #00af00; text-decoration-color: #00af00\">1</span>, <span style=\"color: #00d7ff; text-decoration-color: #00d7ff\">None</span>, <span style=\"color: #00af00; text-decoration-color: #00af00\">256</span>)         │        <span style=\"color: #00af00; text-decoration-color: #00af00\">16,640</span> │\n",
              "├─────────────────────────────────┼────────────────────────┼───────────────┤\n",
              "│ lstm_1 (<span style=\"color: #0087ff; text-decoration-color: #0087ff\">LSTM</span>)                   │ (<span style=\"color: #00af00; text-decoration-color: #00af00\">1</span>, <span style=\"color: #00d7ff; text-decoration-color: #00d7ff\">None</span>, <span style=\"color: #00af00; text-decoration-color: #00af00\">1024</span>)        │     <span style=\"color: #00af00; text-decoration-color: #00af00\">5,246,976</span> │\n",
              "├─────────────────────────────────┼────────────────────────┼───────────────┤\n",
              "│ dense_1 (<span style=\"color: #0087ff; text-decoration-color: #0087ff\">Dense</span>)                 │ (<span style=\"color: #00af00; text-decoration-color: #00af00\">1</span>, <span style=\"color: #00d7ff; text-decoration-color: #00d7ff\">None</span>, <span style=\"color: #00af00; text-decoration-color: #00af00\">65</span>)          │        <span style=\"color: #00af00; text-decoration-color: #00af00\">66,625</span> │\n",
              "└─────────────────────────────────┴────────────────────────┴───────────────┘\n",
              "</pre>\n"
            ]
          },
          "metadata": {}
        },
        {
          "output_type": "display_data",
          "data": {
            "text/plain": [
              "\u001b[1m Total params: \u001b[0m\u001b[38;5;34m5,330,241\u001b[0m (20.33 MB)\n"
            ],
            "text/html": [
              "<pre style=\"white-space:pre;overflow-x:auto;line-height:normal;font-family:Menlo,'DejaVu Sans Mono',consolas,'Courier New',monospace\"><span style=\"font-weight: bold\"> Total params: </span><span style=\"color: #00af00; text-decoration-color: #00af00\">5,330,241</span> (20.33 MB)\n",
              "</pre>\n"
            ]
          },
          "metadata": {}
        },
        {
          "output_type": "display_data",
          "data": {
            "text/plain": [
              "\u001b[1m Trainable params: \u001b[0m\u001b[38;5;34m5,330,241\u001b[0m (20.33 MB)\n"
            ],
            "text/html": [
              "<pre style=\"white-space:pre;overflow-x:auto;line-height:normal;font-family:Menlo,'DejaVu Sans Mono',consolas,'Courier New',monospace\"><span style=\"font-weight: bold\"> Trainable params: </span><span style=\"color: #00af00; text-decoration-color: #00af00\">5,330,241</span> (20.33 MB)\n",
              "</pre>\n"
            ]
          },
          "metadata": {}
        },
        {
          "output_type": "display_data",
          "data": {
            "text/plain": [
              "\u001b[1m Non-trainable params: \u001b[0m\u001b[38;5;34m0\u001b[0m (0.00 B)\n"
            ],
            "text/html": [
              "<pre style=\"white-space:pre;overflow-x:auto;line-height:normal;font-family:Menlo,'DejaVu Sans Mono',consolas,'Courier New',monospace\"><span style=\"font-weight: bold\"> Non-trainable params: </span><span style=\"color: #00af00; text-decoration-color: #00af00\">0</span> (0.00 B)\n",
              "</pre>\n"
            ]
          },
          "metadata": {}
        }
      ],
      "source": [
        "model.summary()"
      ]
    },
    {
      "cell_type": "markdown",
      "metadata": {
        "id": "euNvAtr4JC3A"
      },
      "source": [
        "### The prediction loop\n",
        "\n",
        "The following code block generates the text:\n",
        "\n",
        "- It Starts by choosing a start string, initializing the RNN state and setting the number of characters to generate.\n",
        "\n",
        "- Get the prediction distribution of the next character using the start string and the RNN state.\n",
        "\n",
        "- Then, use a categorical distribution to calculate the index of the predicted character. Use this predicted character as our next input to the model.\n",
        "\n",
        "- The RNN state returned by the model is fed back into the model so that it now has more context, instead than only one character. After predicting the next character, the modified RNN states are again fed back into the model, which is how it learns as it gets more context from the previously predicted characters.\n",
        "\n",
        "![Prediction loop](https://www.tensorflow.org/tutorials/text/images/text_generation_sampling.png)\n",
        "\n",
        "Image source: [Text generation with an RNN](https://www.tensorflow.org/tutorials/text/text_generation) notebook."
      ]
    },
    {
      "cell_type": "code",
      "source": [
        "import glob\n",
        "\n",
        "# Get list of all weight files\n",
        "weight_files = glob.glob(os.path.join(checkpoint_dir, '*.weights.h5'))\n",
        "\n",
        "if weight_files:\n",
        "    latest = max(weight_files, key=os.path.getctime)  # or sort by name, etc.\n",
        "    model.load_weights(latest)\n",
        "    print(f\"Loaded weights from: {latest}\")\n",
        "else:\n",
        "    print(\"No weights file found. Using randomly initialized model.\")"
      ],
      "metadata": {
        "colab": {
          "base_uri": "https://localhost:8080/"
        },
        "id": "Ox42QPWdsK8s",
        "outputId": "8bcf508c-f38c-4041-ce01-159a935570ff"
      },
      "execution_count": 50,
      "outputs": [
        {
          "output_type": "stream",
          "name": "stdout",
          "text": [
            "Loaded weights from: tmp/checkpoints/ckpt_40.weights.h5\n"
          ]
        }
      ]
    },
    {
      "cell_type": "code",
      "execution_count": 51,
      "metadata": {
        "id": "bOqdqGouJFf_",
        "colab": {
          "base_uri": "https://localhost:8080/"
        },
        "outputId": "3c8ddfdc-f0cb-4e29-f4fa-91861cb03460"
      },
      "outputs": [
        {
          "output_type": "stream",
          "name": "stdout",
          "text": [
            "Sherlock: I'll not go.\n",
            "\n",
            "GRUMIO:\n",
            "Nay, come, you must not.\n",
            "\n",
            "ARCHIDAMUS:\n",
            "To the object thereforent,\n",
            "But ne'er till night, I main, 'tis cholering womb,\n",
            "Brother of demends of day. My vouch, I hear, my old dis form your fearful heart to him:\n",
            "Give him some brave tooth our steps of bidding.\n",
            "\n",
            "BAPTISTA:\n",
            "Is, mistress, 'rieve not one distinguishman: you were king,\n",
            "And I not dieed, but surely: you shall not wantono parton writ in my love.\n",
            "\n",
            "VINCENTIO:\n",
            "Away, my lord; there is my king of heaven's condemned,\n",
            "As fill my husband bid me, being thread,\n",
            "And there renearned to are yet: I will pity those.\n",
            "Th-God shallow Rudis.\n",
            "The grey-eyeddings of their pure worserve's in Rome, nor of your worship,\n",
            "Is priests and home, be mighty live; he stands--\n",
            "Since birthen tyrannous and graceful steals,\n",
            "When, as survey shed\n",
            "Thy kinsman's wife another friends: but I'll swear,'\n",
            "Had to demand,\n",
            "In her young princess' golden storm\n",
            "Have spent time stars erought for you would last not mine.\n",
            "\n",
            "RIVERS:\n",
            "His duty is your king, and not my the\n",
            "\n"
          ]
        }
      ],
      "source": [
        "# num_generate\n",
        "# - number of characters to generate.\n",
        "#\n",
        "# temperature\n",
        "# - Low temperatures results in more predictable text.\n",
        "# - Higher temperatures results in more surprising text.\n",
        "# - Experiment to find the best setting.\n",
        "\n",
        "def generate_text(model, start_string, num_generate = 1000, temperature=1.0):\n",
        "    # Evaluation step (generating text using the learned model)\n",
        "\n",
        "    # Converting our start string to numbers (vectorizing).\n",
        "    input_indices = [char2index[s] for s in start_string]\n",
        "    input_indices = tf.expand_dims(input_indices, 0)\n",
        "\n",
        "    # Empty string to store our results.\n",
        "    text_generated = []\n",
        "\n",
        "    # Here batch size == 1.\n",
        "    # Reset states for RNN layers if they are stateful\n",
        "    for layer in model.layers:\n",
        "        if hasattr(layer, 'reset_states'):\n",
        "            layer.reset_states()\n",
        "\n",
        "    for char_index in range(num_generate):\n",
        "        predictions = model(input_indices)\n",
        "        # remove the batch dimension\n",
        "        predictions = tf.squeeze(predictions, 0)\n",
        "\n",
        "        # Using a categorical distribution to predict the character returned by the model.\n",
        "        predictions = predictions / temperature\n",
        "        predicted_id = tf.random.categorical(\n",
        "        predictions,\n",
        "        num_samples=1\n",
        "        )[-1,0].numpy()\n",
        "\n",
        "        # We pass the predicted character as the next input to the model\n",
        "        # along with the previous hidden state.\n",
        "        input_indices = tf.expand_dims([predicted_id], 0)\n",
        "\n",
        "        text_generated.append(index2char[predicted_id])\n",
        "\n",
        "    return (start_string + ''.join(text_generated))\n",
        "print(generate_text(model, start_string=u\"Sherlock: \"))"
      ]
    },
    {
      "cell_type": "code",
      "execution_count": 52,
      "metadata": {
        "id": "Z-8e8P60J5Pg",
        "colab": {
          "base_uri": "https://localhost:8080/"
        },
        "outputId": "481737d7-f830-4dab-dbaa-8a2cd8ce8d95"
      },
      "outputs": [
        {
          "output_type": "stream",
          "name": "stdout",
          "text": [
            "Sherlock: what\n",
            "have I have said that broken from me,\n",
            "Hath let the powder of his oath provoked me.\n",
            "Nay, rather now fight with grief, as it is,\n",
            "Your wrongs in wrath o'erwhelm their admire:\n",
            "Amen.\n",
            "\n",
            "ANTONIO:\n",
            "Which once,\n",
            "God knows what hath yet do thee me r?\n",
            "\n",
            "Second Officer:\n",
            "Hell, out or fair.\n",
            "\n",
            "SICINIUS:\n",
            "Gentlemen, cundit fight!\n",
            "\n",
            "AUTOLYCUS:\n",
            "What will you go? Heaven ends the old so few word Erchip the people.\n",
            "\n",
            "SICINIUS:\n",
            "Faith, one work.\n",
            "The world is fallen flower.\n",
            "\n",
            "MENENIUS:\n",
            "Well, well, we will sub with much contented\n",
            "In that I would believe my business for yourself,\n",
            "To wink me from this malice done.\n",
            "\n",
            "MIRANDA:\n",
            "Well, there went.\n",
            "I woour with a bond.\n",
            "\n",
            "AUTOLYCUS:\n",
            "I crave no time to plead forth it of my head\n",
            "And this usleen'd villains, whiles I last right on the other.\n",
            "The very be deserved the freshness which looks right.\n",
            "\n",
            "ROMEO:\n",
            "Out--\n",
            "\n",
            "SEBASTIAN:\n",
            "O most pertilet, make key\n",
            "which is the trust to the one.\n",
            "\n",
            "ISABELLA:\n",
            "As much for my lips in the duke.\n",
            "\n",
            "ESCALUS:\n",
            "How! knife, good nurse, be it forgive;\n",
            "Yea, noin, \n"
          ]
        }
      ],
      "source": [
        "# Generate the text with default temperature (1.0).\n",
        "print(generate_text(model, start_string=u\"Sherlock: \"))"
      ]
    },
    {
      "cell_type": "code",
      "execution_count": 53,
      "metadata": {
        "colab": {
          "base_uri": "https://localhost:8080/"
        },
        "id": "wq_NlwWJSdix",
        "outputId": "7d5c3bd3-c530-435e-9017-8ba00e55cbbd"
      },
      "outputs": [
        {
          "output_type": "stream",
          "name": "stdout",
          "text": [
            "Sherlock: I swear it.\n",
            "\n",
            "First Citizen:\n",
            "If ey;\n",
            "And that omit there's honest ll serve I, Sir Cobesenes,\n",
            "Signior Lauching and no mistress, I must appear.\n",
            "\n",
            "AUFIDIUS:\n",
            "Ever followed of thy disposition.\n",
            "\n",
            "FRIAR THOMAS:\n",
            "Tell him whatever poxeex-\n",
            "\n",
            "JULOLIO:\n",
            "So 'twas much: sesu it\n",
            "shall exil\n",
            "Le:\n",
            "In sudden, then to Cote, sisters have been, to God,\n",
            "Ay, pility, any thing banishment.\n",
            "\n",
            "TRANIO:\n",
            "Minbetime unquepose and freedom as my weak.\n",
            "Good night, let us not deposee well choose himself will wash\n",
            "He does in vain comes full outwoward.\n",
            "\n",
            "JULIET:\n",
            "Show me this hour mother?\n",
            "\n",
            "DUCHESS OF YOLK:\n",
            "Who have the king! Would Warwick, and a queen;\n",
            "but thinks a netther grief.\n",
            "Your feath, my lord, wis face,\n",
            "Nothing, muffle nothing spake himself.\n",
            "If fair nine, the duke's not strike,\n",
            "And bite your trade; I'll bear thee in your name\n",
            "Is grace meane you talk of amity\n",
            "Within my commission, that I have\n",
            "not high, go back.\n",
            "Your execution3RYORK:\n",
            "Go to ime; your grace shall be hanged.\n",
            "God save Vincentio topprison; other dain led me fear.\n",
            "Lov\n"
          ]
        }
      ],
      "source": [
        "# Generate the text with higher temperature to get more unexpected results.\n",
        "print(generate_text(model, start_string=u\"Sherlock: \", temperature=1.5))"
      ]
    },
    {
      "cell_type": "markdown",
      "source": [
        "## Explore impact of temperature"
      ],
      "metadata": {
        "id": "pIu0g6UHXnD7"
      }
    },
    {
      "cell_type": "code",
      "source": [
        "def evaluate_spelling_accuracy(generated_text):\n",
        "\n",
        "    # Initialize spell checker\n",
        "    spell = SpellChecker(language='en')\n",
        "\n",
        "    # Clean the text and split into words\n",
        "    cleaned_text = re.sub(r'[^\\w\\s]', ' ', generated_text.lower())\n",
        "    words = [word for word in cleaned_text.split() if word.strip()]\n",
        "\n",
        "    words = [word for word in words if word.isalpha() and len(word) > 1]\n",
        "\n",
        "    # Count total words\n",
        "    total_words = len(words)\n",
        "\n",
        "    if total_words == 0:\n",
        "        return {\n",
        "            \"correct_words\": 0,\n",
        "            \"incorrect_words\": 0,\n",
        "            \"total_words\": 0,\n",
        "            \"spelling_accuracy\": 0.0,\n",
        "            \"most_common_incorrect\": []\n",
        "        }\n",
        "\n",
        "    # Find misspelled words\n",
        "    misspelled = spell.unknown(words)\n",
        "\n",
        "    # Count correct words\n",
        "    correct_words = total_words - len(misspelled)\n",
        "\n",
        "    # Calculate spelling accuracy\n",
        "    spelling_accuracy = (correct_words / total_words) * 100\n",
        "\n",
        "    # Get most common incorrect words\n",
        "    incorrect_counter = Counter(misspelled)\n",
        "    most_common_incorrect = incorrect_counter.most_common(10)\n",
        "\n",
        "    # Return metrics\n",
        "    return {\n",
        "        \"correct_words\": correct_words,\n",
        "        \"incorrect_words\": len(misspelled),\n",
        "        \"total_words\": total_words,\n",
        "        \"spelling_accuracy\": spelling_accuracy,\n",
        "        \"most_common_incorrect\": most_common_incorrect\n",
        "    }"
      ],
      "metadata": {
        "id": "djxI_WMh7FSZ"
      },
      "execution_count": 54,
      "outputs": []
    },
    {
      "cell_type": "code",
      "source": [
        "start_string = \"Sherlock Holmes looked at me with a smile. \"\n",
        "temperatures = [0.2, 0.5, 0.7, 1.0, 1.3, 1.7, 2.0]\n",
        "\n",
        "for temp in temperatures:\n",
        "    print(f\"\\n=== TEMPERATURE: {temp} ===\\n\")\n",
        "    generated_text = generate_text(\n",
        "        model,\n",
        "        start_string=start_string,\n",
        "        num_generate=300,\n",
        "        temperature=temp\n",
        "    )\n",
        "    print(generated_text)"
      ],
      "metadata": {
        "id": "QC_pLxv1Xy1b",
        "colab": {
          "base_uri": "https://localhost:8080/"
        },
        "outputId": "12328b1f-daaa-4ff5-b429-6d6e739149c5"
      },
      "execution_count": 55,
      "outputs": [
        {
          "output_type": "stream",
          "name": "stdout",
          "text": [
            "\n",
            "=== TEMPERATURE: 0.2 ===\n",
            "\n",
            "Sherlock Holmes looked at me with a smile. Away with him\n",
            "to prison! lay before their oaths;\n",
            "And when my father well have me for your countenance,\n",
            "Is 't not changed in the bottom of the sea:\n",
            "Some lay in dead men's tongue,\n",
            "Being only heir to all, my lord, and hear me speak.\n",
            "\n",
            "KING RICHARD II:\n",
            "I have been such as stands in like request,\n",
            "And be n\n",
            "\n",
            "=== TEMPERATURE: 0.5 ===\n",
            "\n",
            "Sherlock Holmes looked at me with a smile. He tell me, I beseech you,\n",
            "By all in arms gentlemen, but to repent\n",
            "The heads of his agreement from their lives.\n",
            "But is the man what he did but see\n",
            "Here comes with wrath. Come all this land,\n",
            "That I have been the wild with oaths,\n",
            "Should yet say 'Sir, no going.' Verily,\n",
            "You will not for your weapons, n\n",
            "\n",
            "=== TEMPERATURE: 0.7 ===\n",
            "\n",
            "Sherlock Holmes looked at me with a smile. Putting them thither\n",
            "How doth he lose him.\n",
            "\n",
            "HENRY BOLINGBROKE:\n",
            "Of much less, say I shall interchange\n",
            "From whence that told me here at Oxford fld dream;\n",
            "For on that I, a good lords, take yourself\n",
            "Be put to do some suight of this delight\n",
            "And see a subject as the day wherein\n",
            "You have no cause to whom a\n",
            "\n",
            "=== TEMPERATURE: 1.0 ===\n",
            "\n",
            "Sherlock Holmes looked at me with a smile. Away with him\n",
            "to prison! lay bold it did\n",
            "Ret bear us.\n",
            "\n",
            "MENENIUS:\n",
            "Come, come, peace.\n",
            "\n",
            "SICINIUS:\n",
            "I know not.\n",
            "\n",
            "ISABELLA:\n",
            "Alas for what said my name?\n",
            "\n",
            "CORIOLANUS:\n",
            "I never wish'd aboard the key of custom; read it not;\n",
            "And your hearing them in some foe.\n",
            "\n",
            "HASTINGS:\n",
            "I learn of wax.\n",
            "\n",
            "GLOUCESTER:\n",
            "The fixth th\n",
            "\n",
            "=== TEMPERATURE: 1.3 ===\n",
            "\n",
            "Sherlock Holmes looked at me with a smile. Away with\n",
            "him too?\n",
            "\n",
            "GREMIO:\n",
            "And I chie will not.\n",
            "\n",
            "POLIXENES:\n",
            "March something good old brat him married Rome.\n",
            "\n",
            "MERCUTIO:\n",
            "Come hither, Bino good-houses,--\n",
            "\n",
            "Shepherd:\n",
            "How you\n",
            "Huse-verdict, r temperage and\n",
            "mistress of his horse; whose happy Does,\n",
            "That lets tend you to do, for not seew;\n",
            "Yet would you fai\n",
            "\n",
            "=== TEMPERATURE: 1.7 ===\n",
            "\n",
            "Sherlock Holmes looked at me with a smile. She, Angelo!\n",
            "O n Francise;\n",
            "Rido--\n",
            "\n",
            "First Servingman:\n",
            "Where' Whangs born hap with'd his foreh;\n",
            "My thumb, sir; calmishld in Paliantly, sed,\n",
            "Peaulty door other-scaff; but man;\n",
            "Our voices that lives but his softer lack'd\n",
            "And twitch the ne of Mibana.\n",
            "Soften?\n",
            "\n",
            "Second Murderer:\n",
            "''ll go,\n",
            "toor,\n",
            "And full of b\n",
            "\n",
            "=== TEMPERATURE: 2.0 ===\n",
            "\n",
            "Sherlock Holmes looked at me with a smile. But to my grace imquel Frby silence, without!\n",
            "\n",
            "S it jest inoncrand come:\n",
            "Make is the lentthe lusty which rather\n",
            "We s-pityouthof is\n",
            "miserving, image 'Well abedGloyal:\n",
            "Condition, thick nothing but b welcome!'\n",
            "APm cushing unupplybeous debt'es to brA:\n",
            "Anorg.\n",
            "\n",
            "KICINIZABETH:\n",
            "I, nd minister. Or usore quait\n"
          ]
        }
      ]
    },
    {
      "cell_type": "code",
      "source": [
        "import re\n",
        "from collections import Counter\n",
        "\n",
        "def analyze_text(text, original_prompt_length):\n",
        "    # Analyze only the generated portion\n",
        "    generated_text = text[original_prompt_length:]\n",
        "\n",
        "    # Word diversity (higher = more diverse vocabulary)\n",
        "    words = re.findall(r'\\b\\w+\\b', generated_text.lower())\n",
        "    word_diversity = len(set(words)) / len(words) if words else 0\n",
        "\n",
        "    # Repetition rate (higher = more repetition)\n",
        "    word_counts = Counter(words)\n",
        "    repetitions = sum(count - 1 for count in word_counts.values())\n",
        "    repetition_rate = repetitions / len(words) if words else 0\n",
        "\n",
        "    # Average sentence length\n",
        "    sentences = re.split(r'[.!?]+', generated_text)\n",
        "    sentences = [s for s in sentences if s.strip()]\n",
        "    avg_sentence_length = sum(len(s.split()) for s in sentences) / len(sentences) if sentences else 0\n",
        "\n",
        "    # Spelling accuracy\n",
        "    spelling_accuracy = evaluate_spelling_accuracy(generated_text)['spelling_accuracy']\n",
        "\n",
        "    return {\n",
        "        \"word_diversity\": word_diversity,\n",
        "        \"repetition_rate\": repetition_rate,\n",
        "        \"avg_sentence_length\": avg_sentence_length,\n",
        "        \"spelling_accuracy\" : spelling_accuracy\n",
        "    }\n",
        "\n",
        "results = {}\n",
        "for temp in temperatures:\n",
        "    # Generate 5 samples per temperature for more reliable metrics\n",
        "    metrics = []\n",
        "    for _ in range(5):\n",
        "        text = generate_text(model, start_string, 300, temp)\n",
        "        metrics.append(analyze_text(text, len(start_string)))\n",
        "\n",
        "    # Average the metrics\n",
        "    results[temp] = {k: sum(m[k] for m in metrics)/len(metrics) for k in metrics[0]}"
      ],
      "metadata": {
        "id": "RhOoLktOkT15"
      },
      "execution_count": 57,
      "outputs": []
    },
    {
      "cell_type": "code",
      "source": [
        "# Print the results\n",
        "print(f\"{'Temperature':<12} {'Word Diversity':<18} {'Repetition Rate':<18} {'Avg Sentence Length':<24} {'Spelling accuracy'}\")\n",
        "print(\"-\" * 100)\n",
        "\n",
        "for temp in sorted(results):\n",
        "    metrics = results[temp]\n",
        "    print(f\"{temp:<12} {metrics['word_diversity']:<18.3f} {metrics['repetition_rate']:<18.3f} {metrics['avg_sentence_length']:<24.3f} {metrics['spelling_accuracy']:0.2f}\")\n"
      ],
      "metadata": {
        "id": "D6jgWz-HlRmn",
        "colab": {
          "base_uri": "https://localhost:8080/"
        },
        "outputId": "b5cd989a-b23f-4651-fc0b-08799b6e0664"
      },
      "execution_count": 75,
      "outputs": [
        {
          "output_type": "stream",
          "name": "stdout",
          "text": [
            "Temperature  Word Diversity     Repetition Rate    Avg Sentence Length      Spelling accuracy\n",
            "----------------------------------------------------------------------------------------------------\n",
            "0.2          0.822              0.178              23.187                   94.79\n",
            "0.5          0.826              0.174              20.967                   96.64\n",
            "0.7          0.893              0.107              12.921                   93.09\n",
            "1.0          0.887              0.113              13.824                   91.34\n",
            "1.3          0.902              0.098              12.593                   86.53\n",
            "1.7          0.907              0.093              13.000                   81.96\n",
            "2.0          0.936              0.064              11.061                   71.14\n"
          ]
        }
      ]
    },
    {
      "cell_type": "code",
      "source": [
        "def visualize_next_char_distribution(model, prompt, temperatures=[0.5, 1.0, 1.5], char2index=None, index2char=None):\n",
        "    \"\"\"Visualize how temperature affects the probability distribution of the next character prediction.\"\"\"\n",
        "\n",
        "    # Convert prompt to input indices\n",
        "    input_indices = [char2index[s] for s in prompt]\n",
        "    input_indices = tf.expand_dims(input_indices, 0)  # Shape: (1, len(prompt))\n",
        "\n",
        "    # Run the model and get the last time step's predictions\n",
        "    predictions = model(input_indices)\n",
        "    predictions = tf.squeeze(predictions, 0)[-1]  # Shape: (vocab_size,)\n",
        "\n",
        "    # Compute base probabilities to determine top-k characters (for consistent x-axis)\n",
        "    base_probs = tf.nn.softmax(predictions).numpy()\n",
        "    top_indices = np.argsort(base_probs)[-10:][::-1]  # Top 10 indices\n",
        "    top_chars = [index2char[i] for i in top_indices]\n",
        "\n",
        "    # Create plot\n",
        "    plt.figure(figsize=(12, len(temperatures) * 3))\n",
        "\n",
        "    for i, temp in enumerate(temperatures):\n",
        "        scaled_logits = predictions / temp\n",
        "        scaled_probs = tf.nn.softmax(scaled_logits).numpy()\n",
        "\n",
        "        plt.subplot(len(temperatures), 1, i + 1)\n",
        "        plt.bar(top_chars, scaled_probs[top_indices])\n",
        "\n",
        "visualize_next_char_distribution(\n",
        "    model,\n",
        "    \"Sherlock Holmes looked at th\",\n",
        "    temperatures=[0.3, 1.0, 2.0],\n",
        "    char2index=char2index,\n",
        "    index2char=index2char\n",
        ")\n"
      ],
      "metadata": {
        "id": "21DOrg1FmbPl",
        "colab": {
          "base_uri": "https://localhost:8080/",
          "height": 207
        },
        "outputId": "20ca3a9f-8325-4cb9-dc7b-e2ccfa25d4cb"
      },
      "execution_count": 22,
      "outputs": [
        {
          "output_type": "error",
          "ename": "NameError",
          "evalue": "name 'model' is not defined",
          "traceback": [
            "\u001b[0;31m---------------------------------------------------------------------------\u001b[0m",
            "\u001b[0;31mNameError\u001b[0m                                 Traceback (most recent call last)",
            "\u001b[0;32m<ipython-input-22-2a917663a4d4>\u001b[0m in \u001b[0;36m<cell line: 0>\u001b[0;34m()\u001b[0m\n\u001b[1;32m     26\u001b[0m \u001b[0;34m\u001b[0m\u001b[0m\n\u001b[1;32m     27\u001b[0m visualize_next_char_distribution(\n\u001b[0;32m---> 28\u001b[0;31m     \u001b[0mmodel\u001b[0m\u001b[0;34m,\u001b[0m\u001b[0;34m\u001b[0m\u001b[0;34m\u001b[0m\u001b[0m\n\u001b[0m\u001b[1;32m     29\u001b[0m     \u001b[0;34m\"Sherlock Holmes looked at th\"\u001b[0m\u001b[0;34m,\u001b[0m\u001b[0;34m\u001b[0m\u001b[0;34m\u001b[0m\u001b[0m\n\u001b[1;32m     30\u001b[0m     \u001b[0mtemperatures\u001b[0m\u001b[0;34m=\u001b[0m\u001b[0;34m[\u001b[0m\u001b[0;36m0.3\u001b[0m\u001b[0;34m,\u001b[0m \u001b[0;36m1.0\u001b[0m\u001b[0;34m,\u001b[0m \u001b[0;36m2.0\u001b[0m\u001b[0;34m]\u001b[0m\u001b[0;34m,\u001b[0m\u001b[0;34m\u001b[0m\u001b[0;34m\u001b[0m\u001b[0m\n",
            "\u001b[0;31mNameError\u001b[0m: name 'model' is not defined"
          ]
        }
      ]
    },
    {
      "cell_type": "markdown",
      "metadata": {
        "id": "0hh80MqEO_XI"
      },
      "source": [
        "## Save the model"
      ]
    },
    {
      "cell_type": "code",
      "execution_count": null,
      "metadata": {
        "id": "VPE98xa8PA-u"
      },
      "outputs": [],
      "source": [
        "model_name = 'text_generation_sherlock_rnn.h5'\n",
        "model.save(model_name)"
      ]
    },
    {
      "cell_type": "markdown",
      "metadata": {
        "id": "WYP08xbbTNKp"
      },
      "source": [
        "## Converting the model to web-format\n",
        "\n",
        "To use this model on the web we need to convert it into the format that will be understandable by [tensorflowjs](https://www.tensorflow.org/js). To do so we may use [tfjs-converter](https://github.com/tensorflow/tfjs/tree/master/tfjs-converter) as following:\n",
        "\n",
        "```\n",
        "tensorflowjs_converter --input_format keras \\\n",
        "  ./experiments/text_generation_shakespeare_rnn/text_generation_shakespeare_rnn.h5 \\\n",
        "  ./demos/public/models/text_generation_shakespeare_rnn\n",
        "```\n",
        "\n",
        "You find this experiment in the [Demo app](https://trekhleb.github.io/machine-learning-experiments) and play around with it right in you browser to see how the model performs in real life."
      ]
    }
  ],
  "metadata": {
    "accelerator": "GPU",
    "colab": {
      "provenance": []
    },
    "kernelspec": {
      "display_name": "Python 3",
      "language": "python",
      "name": "python3"
    },
    "language_info": {
      "codemirror_mode": {
        "name": "ipython",
        "version": 3
      },
      "file_extension": ".py",
      "mimetype": "text/x-python",
      "name": "python",
      "nbconvert_exporter": "python",
      "pygments_lexer": "ipython3",
      "version": "3.7.6"
    }
  },
  "nbformat": 4,
  "nbformat_minor": 0
}